{
 "cells": [
  {
   "cell_type": "markdown",
   "metadata": {},
   "source": [
    "# Evaluate no-show percentages during pilot\n",
    "\n",
    "This notebook is used for evaluating the no-show pilot by looking at the no-show percentage"
   ]
  },
  {
   "cell_type": "code",
   "execution_count": null,
   "metadata": {},
   "outputs": [],
   "source": [
    "from noshow.preprocessing.load_data import (\n",
    "    load_appointment_csv,\n",
    "    process_appointments,\n",
    "    process_postal_codes,\n",
    ")\n",
    "from noshow.features.feature_pipeline import create_features, select_feature_columns\n",
    "from noshow.model.predict import create_prediction\n",
    "import matplotlib.pyplot as plt\n",
    "import pickle\n",
    "import pandas as pd\n",
    "import seaborn as sns"
   ]
  },
  {
   "cell_type": "code",
   "execution_count": null,
   "metadata": {},
   "outputs": [],
   "source": [
    "appointments_df = load_appointment_csv(\"../data/raw/poliafspraken_pilot.csv\")\n",
    "appointments_df = process_appointments(appointments_df).sort_index()\n",
    "appointments_df[\"pilot\"] = \"Geen pilot\"\n",
    "appointments_df.loc[(slice(None), slice(\"2023-10-05\", \"2023-11-01\")), \"pilot\"] = \"pilot\"\n",
    "appointments_df.shape"
   ]
  },
  {
   "cell_type": "markdown",
   "metadata": {},
   "source": [
    "## No show per month"
   ]
  },
  {
   "cell_type": "code",
   "execution_count": null,
   "metadata": {},
   "outputs": [],
   "source": [
    "appointments_df[\"month\"] = appointments_df.index.get_level_values(\"start\").to_period(\n",
    "    \"M\"\n",
    ")\n",
    "appointments_df.groupby(\"month\")[\"no_show\"].value_counts(True).unstack()[\n",
    "    \"no_show\"\n",
    "].plot.bar(figsize=(20, 6))"
   ]
  },
  {
   "cell_type": "markdown",
   "metadata": {},
   "source": [
    "### Per clinic"
   ]
  },
  {
   "cell_type": "code",
   "execution_count": null,
   "metadata": {},
   "outputs": [],
   "source": [
    "for agenda in appointments_df[\"hoofdagenda\"].unique():\n",
    "    (\n",
    "        appointments_df.loc[appointments_df[\"hoofdagenda\"] == agenda]\n",
    "        .groupby(\"month\")[\"no_show\"]\n",
    "        .value_counts(True)\n",
    "        .unstack()[\"no_show\"]\n",
    "        .plot.bar(figsize=(20, 6), title=agenda)\n",
    "    )\n",
    "    plt.show()"
   ]
  },
  {
   "cell_type": "markdown",
   "metadata": {},
   "source": [
    "## No show aggregated on month"
   ]
  },
  {
   "cell_type": "code",
   "execution_count": null,
   "metadata": {},
   "outputs": [],
   "source": [
    "appointments_df[\"month\"] = appointments_df.index.get_level_values(\"start\").month\n",
    "(\n",
    "    appointments_df.groupby([\"month\", \"pilot\"])[\"no_show\"]\n",
    "    .value_counts(True)\n",
    "    .unstack([\"no_show\", \"pilot\"])[\"no_show\"]\n",
    "    .plot.bar(figsize=(15, 6))\n",
    ")"
   ]
  },
  {
   "cell_type": "markdown",
   "metadata": {},
   "source": [
    "### Per clinic"
   ]
  },
  {
   "cell_type": "code",
   "execution_count": null,
   "metadata": {},
   "outputs": [],
   "source": [
    "for agenda in appointments_df[\"hoofdagenda\"].unique():\n",
    "    (\n",
    "        appointments_df.loc[appointments_df[\"hoofdagenda\"] == agenda]\n",
    "        .groupby([\"month\", \"pilot\"])[\"no_show\"]\n",
    "        .value_counts(True)\n",
    "        .unstack([\"no_show\", \"pilot\"])[\"no_show\"]\n",
    "        .plot.bar(figsize=(15, 6), title=agenda)\n",
    "    )\n",
    "    plt.show()"
   ]
  },
  {
   "cell_type": "markdown",
   "metadata": {},
   "source": [
    "## No-show percentage per prediction bin"
   ]
  },
  {
   "cell_type": "code",
   "execution_count": null,
   "metadata": {},
   "outputs": [],
   "source": [
    "with open(\"../output/models/no_show_model_cv.pickle\", \"rb\") as f:\n",
    "    model = pickle.load(f)\n",
    "\n",
    "all_postalcodes = process_postal_codes(\"../data/raw/NL.txt\")\n",
    "predictions_df = create_prediction(model, appointments_df, all_postalcodes)"
   ]
  },
  {
   "cell_type": "code",
   "execution_count": null,
   "metadata": {},
   "outputs": [],
   "source": [
    "# Control group is Oct 2015 - 2022\n",
    "predictions_df = predictions_df.loc[\n",
    "    predictions_df.index.get_level_values(\"start\").month == 10\n",
    "]"
   ]
  },
  {
   "cell_type": "code",
   "execution_count": null,
   "metadata": {},
   "outputs": [],
   "source": [
    "total_appointments = appointments_df.join(predictions_df, how=\"inner\")\n",
    "total_appointments[\"predict_bin\"] = pd.cut(\n",
    "    total_appointments[\"prediction\"], bins=[0, 0.05, 0.1, 0.15, 0.2, 0.25, 1]\n",
    ")"
   ]
  },
  {
   "cell_type": "code",
   "execution_count": null,
   "metadata": {},
   "outputs": [],
   "source": [
    "total_appointments.groupby([\"pilot\", \"predict_bin\"])[\"no_show\"].value_counts(\n",
    "    True\n",
    ").unstack([\"no_show\", \"pilot\"])[\"no_show\"].plot.bar()"
   ]
  },
  {
   "cell_type": "code",
   "execution_count": null,
   "metadata": {},
   "outputs": [],
   "source": [
    "total_appointments[\"noshow_num\"] = 0\n",
    "total_appointments.loc[total_appointments[\"no_show\"] == \"no_show\", \"noshow_num\"] = 1\n",
    "total_appointments_plot = total_appointments.groupby([\"pilot\", \"predict_bin\"])[\n",
    "    \"noshow_num\"\n",
    "].agg([\"mean\", \"std\", \"size\"])\n",
    "total_appointments_plot"
   ]
  },
  {
   "cell_type": "code",
   "execution_count": null,
   "metadata": {},
   "outputs": [],
   "source": [
    "plt.subplots(figsize=(15, 6))\n",
    "sns.barplot(data=total_appointments, x=\"predict_bin\", y=\"noshow_num\", hue=\"pilot\")\n",
    "plt.title(\"No-Show percentage per risico-categorie\")\n",
    "plt.xlabel(\"Risico-categorieen\")\n",
    "plt.ylabel(\"Percentage No-Show\")\n",
    "plt.show()"
   ]
  }
 ],
 "metadata": {
  "kernelspec": {
   "display_name": "no_show_ruben",
   "language": "python",
   "name": "python3"
  },
  "language_info": {
   "codemirror_mode": {
    "name": "ipython",
    "version": 3
   },
   "file_extension": ".py",
   "mimetype": "text/x-python",
   "name": "python",
   "nbconvert_exporter": "python",
   "pygments_lexer": "ipython3",
   "version": "3.8.16"
  }
 },
 "nbformat": 4,
 "nbformat_minor": 2
}
