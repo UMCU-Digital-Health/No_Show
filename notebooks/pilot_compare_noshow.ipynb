{
 "cells": [
  {
   "cell_type": "markdown",
   "metadata": {},
   "source": [
    "# Evaluate no-show percentages during pilot\n",
    "\n",
    "This notebook is used for evaluating the no-show pilot by looking at the no-show percentage"
   ]
  },
  {
   "cell_type": "code",
   "execution_count": null,
   "metadata": {},
   "outputs": [],
   "source": [
    "import os\n",
    "import pickle\n",
    "\n",
    "import matplotlib.pyplot as plt\n",
    "import pandas as pd\n",
    "import seaborn as sns\n",
    "from dotenv import load_dotenv\n",
    "from IPython.display import display\n",
    "from ipywidgets import interact\n",
    "from sqlalchemy import create_engine\n",
    "from sqlalchemy.orm import sessionmaker\n",
    "\n",
    "from noshow.model.predict import create_prediction\n",
    "from noshow.preprocessing.load_data import (\n",
    "    load_appointment_csv,\n",
    "    process_appointments,\n",
    "    process_postal_codes,\n",
    ")"
   ]
  },
  {
   "cell_type": "code",
   "execution_count": null,
   "metadata": {},
   "outputs": [],
   "source": [
    "load_dotenv(\"../.env\")\n",
    "\n",
    "\n",
    "# Global and env variables\n",
    "db_user = os.environ[\"DB_USER\"]\n",
    "db_passwd = os.environ[\"DB_PASSWD\"]\n",
    "db_host = os.environ[\"DB_HOST\"]\n",
    "db_port = os.environ[\"DB_PORT\"]\n",
    "db_database = os.environ[\"DB_DATABASE\"]"
   ]
  },
  {
   "cell_type": "code",
   "execution_count": null,
   "metadata": {},
   "outputs": [],
   "source": [
    "appointments_df = load_appointment_csv(\"../data/raw/poliafspraken_pilot.csv\")\n",
    "appointments_df = process_appointments(appointments_df).sort_index()\n",
    "appointments_df[\"pilot\"] = \"Geen pilot\"\n",
    "appointments_df.loc[(slice(None), slice(\"2023-10-05\", \"2023-11-01\")), \"pilot\"] = \"pilot\"\n",
    "appointments_df.shape"
   ]
  },
  {
   "cell_type": "code",
   "execution_count": null,
   "metadata": {},
   "outputs": [],
   "source": [
    "CONNECTSTRING = (\n",
    "    rf\"mssql+pymssql://{db_user}:{db_passwd}@{db_host}:{db_port}/{db_database}\"\n",
    ")\n",
    "engine = create_engine(CONNECTSTRING)\n",
    "session_object = sessionmaker(bind=engine)"
   ]
  },
  {
   "cell_type": "code",
   "execution_count": null,
   "metadata": {},
   "outputs": [],
   "source": [
    "call_response = pd.read_sql_table(\"apicallresponse\", engine, schema=\"noshow\")\n",
    "prediction = pd.read_sql_table(\"apiprediction\", engine, schema=\"noshow\")\n",
    "\n",
    "prediction_response = prediction.merge(\n",
    "    call_response, left_on=\"id\", right_on=\"prediction_id\", how=\"inner\"\n",
    ")\n",
    "prediction_response"
   ]
  },
  {
   "cell_type": "markdown",
   "metadata": {},
   "source": [
    "## No show per month"
   ]
  },
  {
   "cell_type": "code",
   "execution_count": null,
   "metadata": {},
   "outputs": [],
   "source": [
    "appointments_df[\"month\"] = appointments_df.index.get_level_values(\"start\").to_period(\n",
    "    \"M\"\n",
    ")\n",
    "appointments_df.groupby(\"month\")[\"no_show\"].value_counts(True).unstack()[\n",
    "    \"no_show\"\n",
    "].plot.bar(figsize=(20, 6))"
   ]
  },
  {
   "cell_type": "markdown",
   "metadata": {},
   "source": [
    "### Per clinic"
   ]
  },
  {
   "cell_type": "code",
   "execution_count": null,
   "metadata": {},
   "outputs": [],
   "source": [
    "for agenda in appointments_df[\"hoofdagenda\"].unique():\n",
    "    (\n",
    "        appointments_df.loc[appointments_df[\"hoofdagenda\"] == agenda]\n",
    "        .groupby(\"month\")[\"no_show\"]\n",
    "        .value_counts(True)\n",
    "        .unstack()[\"no_show\"]\n",
    "        .plot.bar(figsize=(20, 6), title=agenda)\n",
    "    )\n",
    "    plt.show()"
   ]
  },
  {
   "cell_type": "markdown",
   "metadata": {},
   "source": [
    "## No show aggregated on month"
   ]
  },
  {
   "cell_type": "code",
   "execution_count": null,
   "metadata": {},
   "outputs": [],
   "source": [
    "appointments_df[\"month\"] = appointments_df.index.get_level_values(\"start\").month\n",
    "tmp_df = (\n",
    "    appointments_df.groupby([\"month\", \"pilot\"])[\"no_show\"]\n",
    "    .value_counts(True)\n",
    "    .unstack([\"no_show\", \"pilot\"])[\"no_show\"]\n",
    ")\n",
    "tmp_df.loc[11, \"pilot\"] = None\n",
    "print(tmp_df)\n",
    "tmp_df.plot.bar(figsize=(15, 6))\n",
    "plt.xlabel(\"\")\n",
    "plt.title(\"Gem. no-show percentage per maand sinds 2015\")\n",
    "plt.show()"
   ]
  },
  {
   "cell_type": "markdown",
   "metadata": {},
   "source": [
    "### Per clinic"
   ]
  },
  {
   "cell_type": "code",
   "execution_count": null,
   "metadata": {},
   "outputs": [],
   "source": [
    "for agenda in appointments_df[\"hoofdagenda\"].unique():\n",
    "    tmp_df = (\n",
    "        appointments_df.loc[appointments_df[\"hoofdagenda\"] == agenda]\n",
    "        .groupby([\"month\", \"pilot\"])[\"no_show\"]\n",
    "        .value_counts(True)\n",
    "        .unstack([\"no_show\", \"pilot\"])[\"no_show\"]\n",
    "    )\n",
    "    tmp_df.loc[11, \"pilot\"] = None\n",
    "    tmp_df.plot.bar(figsize=(15, 6))\n",
    "    plt.xlabel(\"\")\n",
    "    plt.title(agenda)\n",
    "    plt.show()"
   ]
  },
  {
   "cell_type": "markdown",
   "metadata": {},
   "source": [
    "## No-show percentage per prediction bin"
   ]
  },
  {
   "cell_type": "code",
   "execution_count": null,
   "metadata": {},
   "outputs": [],
   "source": [
    "with open(\"../output/models/no_show_model_cv.pickle\", \"rb\") as f:\n",
    "    model = pickle.load(f)\n",
    "\n",
    "all_postalcodes = process_postal_codes(\"../data/raw/NL.txt\")\n",
    "predictions_df = create_prediction(model, appointments_df, all_postalcodes)"
   ]
  },
  {
   "cell_type": "code",
   "execution_count": null,
   "metadata": {},
   "outputs": [],
   "source": [
    "# Control group is Oct 2015 - 2022\n",
    "predictions_df = predictions_df.loc[\n",
    "    predictions_df.index.get_level_values(\"start\").month == 10\n",
    "]"
   ]
  },
  {
   "cell_type": "code",
   "execution_count": null,
   "metadata": {},
   "outputs": [],
   "source": [
    "total_appointments = appointments_df.join(predictions_df, how=\"inner\")\n",
    "total_appointments[\"predict_bin\"] = pd.qcut(total_appointments[\"prediction\"], 12)"
   ]
  },
  {
   "cell_type": "code",
   "execution_count": null,
   "metadata": {},
   "outputs": [],
   "source": [
    "total_appointments.groupby([\"pilot\", \"predict_bin\"])[\"no_show\"].value_counts(\n",
    "    True\n",
    ").unstack([\"no_show\", \"pilot\"])[\"no_show\"].plot.bar()"
   ]
  },
  {
   "cell_type": "code",
   "execution_count": null,
   "metadata": {},
   "outputs": [],
   "source": [
    "total_appointments[\"noshow_num\"] = 0\n",
    "total_appointments.loc[total_appointments[\"no_show\"] == \"no_show\", \"noshow_num\"] = 1\n",
    "total_appointments_plot = total_appointments.groupby([\"pilot\", \"predict_bin\"])[\n",
    "    \"noshow_num\"\n",
    "].agg([\"mean\", \"std\", \"size\"])\n",
    "total_appointments_plot"
   ]
  },
  {
   "cell_type": "code",
   "execution_count": null,
   "metadata": {},
   "outputs": [],
   "source": [
    "fig, ax = plt.subplots(2, 1, figsize=(15, 8), sharex=True)\n",
    "total_appointments[[\"prediction\", \"pilot\"]].plot.hist(by=\"pilot\", bins=100, ax=ax)\n",
    "fig.show()"
   ]
  },
  {
   "cell_type": "code",
   "execution_count": null,
   "metadata": {},
   "outputs": [],
   "source": [
    "years=[2015, 2016, 2017, 2018, 2019, 2020, 2021, 2022]\n",
    "@interact\n",
    "def no_show_perc_plot(\n",
    "    years=years,\n",
    "    show_all=False,\n",
    "    only_called=False,\n",
    "):\n",
    "    if show_all:\n",
    "        total_appointments_selection = total_appointments\n",
    "    else:\n",
    "        year_selection = [years, 2023]\n",
    "        total_appointments_selection = total_appointments[\n",
    "            total_appointments.index.get_level_values(\"start\").year.isin(year_selection)\n",
    "        ]\n",
    "\n",
    "    if only_called:\n",
    "        total_appointments_selection = total_appointments_selection.loc[\n",
    "            (total_appointments_selection[\"pilot\"] == \"Geen pilot\")\n",
    "            | total_appointments_selection[\"APP_ID\"].isin(\n",
    "                prediction_response[\"prediction_id\"].astype(int)\n",
    "            )\n",
    "        ]\n",
    "\n",
    "    plt.subplots(figsize=(15, 6))\n",
    "    sns.barplot(\n",
    "        data=total_appointments_selection,\n",
    "        x=\"predict_bin\",\n",
    "        y=\"noshow_num\",\n",
    "        hue=\"pilot\",\n",
    "        hue_order=[\"Geen pilot\", \"pilot\"],\n",
    "    )\n",
    "    plt.title(\"No-Show percentage per risico-categorie\")\n",
    "    plt.xlabel(\"Risico-categorieen\")\n",
    "    plt.ylabel(\"Percentage No-Show\")\n",
    "    plt.show()\n",
    "\n",
    "    total_appointments_plot = total_appointments_selection.groupby(\n",
    "        [\"pilot\", \"predict_bin\"]\n",
    "    )[\"noshow_num\"].agg([\"mean\", \"std\", \"size\"])\n",
    "    display(total_appointments_plot)"
   ]
  },
  {
   "cell_type": "code",
   "execution_count": null,
   "metadata": {},
   "outputs": [],
   "source": [
    "prediction_response.columns"
   ]
  },
  {
   "cell_type": "code",
   "execution_count": null,
   "metadata": {},
   "outputs": [],
   "source": [
    "prediction_response[\"id_x\"] = prediction_response[\"id_x\"].astype(\"Int64\")\n",
    "tmp = total_appointments.merge(prediction_response, left_on=\"APP_ID\", right_on=\"id_x\")\n",
    "tmp = tmp[tmp[\"call_status\"] == \"Gebeld\"]\n",
    "tmp[\"y\"] = tmp[\"call_outcome\"] == \"Verzet/Geannuleerd\"\n",
    "tmp"
   ]
  }
 ],
 "metadata": {
  "kernelspec": {
   "display_name": "no_show_ruben",
   "language": "python",
   "name": "python3"
  },
  "language_info": {
   "codemirror_mode": {
    "name": "ipython",
    "version": 3
   },
   "file_extension": ".py",
   "mimetype": "text/x-python",
   "name": "python",
   "nbconvert_exporter": "python",
   "pygments_lexer": "ipython3",
   "version": "3.11.8"
  }
 },
 "nbformat": 4,
 "nbformat_minor": 2
}
