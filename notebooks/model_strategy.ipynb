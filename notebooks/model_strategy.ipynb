{
 "cells": [
  {
   "cell_type": "markdown",
   "metadata": {},
   "source": [
    "# Model strategy\n",
    "\n",
    "Notebook to compare model strategies, including clinic or not in the model and the effect on the predictions"
   ]
  },
  {
   "cell_type": "markdown",
   "metadata": {},
   "source": [
    "## Load packages"
   ]
  },
  {
   "cell_type": "code",
   "execution_count": null,
   "metadata": {},
   "outputs": [],
   "source": [
    "%load_ext autoreload\n",
    "%autoreload 2"
   ]
  },
  {
   "cell_type": "code",
   "execution_count": null,
   "metadata": {},
   "outputs": [],
   "source": [
    "import matplotlib.pyplot as plt\n",
    "import numpy as np\n",
    "import pandas as pd\n",
    "from sklearn.ensemble import HistGradientBoostingClassifier\n",
    "\n",
    "from noshow.features.feature_pipeline import create_features\n",
    "from noshow.preprocessing.load_data import (\n",
    "    load_appointment_csv,\n",
    "    process_appointments,\n",
    "    process_postal_codes,\n",
    ")\n",
    "\n",
    "# Enable copy on write\n",
    "pd.options.mode.copy_on_write = True"
   ]
  },
  {
   "cell_type": "markdown",
   "metadata": {},
   "source": [
    "## Load data"
   ]
  },
  {
   "cell_type": "code",
   "execution_count": null,
   "metadata": {},
   "outputs": [],
   "source": [
    "appointments_df = load_appointment_csv(\"../data/raw/poliafspraken_no_show.csv\")\n",
    "appointments_df = process_appointments(appointments_df)\n",
    "all_postalcodes = process_postal_codes(\"../data/raw/NL.txt\")\n",
    "featuretable = create_features(\n",
    "    appointments_df, all_postalcodes, minutes_early_cutoff=30\n",
    ")\n",
    "\n",
    "featuretable = (\n",
    "    featuretable[\n",
    "        [\n",
    "            \"hoofdagenda\",\n",
    "            \"hour\",\n",
    "            \"weekday\",\n",
    "            \"minutesDuration\",\n",
    "            \"no_show\",\n",
    "            \"prev_no_show\",\n",
    "            \"prev_no_show_perc\",\n",
    "            \"age\",\n",
    "            \"dist_umcu\",\n",
    "            \"prev_minutes_early\",\n",
    "            \"earlier_appointments\",\n",
    "            \"appointments_same_day\",\n",
    "            \"appointments_last_days\",\n",
    "            \"days_since_created\",\n",
    "            \"days_since_last_appointment\",\n",
    "        ]\n",
    "    ]\n",
    "    .reset_index()\n",
    "    .set_index([\"pseudo_id\", \"start\", \"hoofdagenda\"])\n",
    ")"
   ]
  },
  {
   "cell_type": "code",
   "execution_count": null,
   "metadata": {},
   "outputs": [],
   "source": [
    "featuretable[\"no_show\"] = (\n",
    "    featuretable[\"no_show\"].replace({\"no_show\": \"1\", \"show\": \"0\"}).astype(int)\n",
    ")\n",
    "featuretable[\"hour\"] = featuretable[\"hour\"].astype(\"category\")\n",
    "featuretable[\"weekday\"] = featuretable[\"weekday\"].astype(\"category\")\n",
    "\n",
    "print(featuretable.dtypes)\n",
    "\n",
    "X, y = featuretable.drop(columns=\"no_show\"), featuretable[\"no_show\"]"
   ]
  },
  {
   "cell_type": "markdown",
   "metadata": {},
   "source": [
    "## Train different models and add predictions to data"
   ]
  },
  {
   "cell_type": "code",
   "execution_count": null,
   "metadata": {},
   "outputs": [],
   "source": [
    "lgboost_model = HistGradientBoostingClassifier(\n",
    "    learning_rate=0.05,\n",
    "    max_iter=300,\n",
    "    categorical_features=[\"hour\", \"weekday\"],\n",
    "    random_state=42,\n",
    ")"
   ]
  },
  {
   "cell_type": "code",
   "execution_count": null,
   "metadata": {},
   "outputs": [],
   "source": [
    "fitted_model = lgboost_model.fit(X, y)\n",
    "preds = fitted_model.predict_proba(X)"
   ]
  },
  {
   "cell_type": "code",
   "execution_count": null,
   "metadata": {},
   "outputs": [],
   "source": [
    "lgboost_poli = HistGradientBoostingClassifier(\n",
    "    learning_rate=0.05,\n",
    "    max_iter=300,\n",
    "    categorical_features=[\"hour\", \"weekday\", \"clinic\"],\n",
    "    random_state=42,\n",
    ")"
   ]
  },
  {
   "cell_type": "code",
   "execution_count": null,
   "metadata": {},
   "outputs": [],
   "source": [
    "X_poli = X.copy()\n",
    "X_poli[\"clinic\"] = X_poli.index.get_level_values(\"hoofdagenda\")\n",
    "fitted_model_poli = lgboost_poli.fit(X_poli, y)\n",
    "preds_poli = fitted_model_poli.predict_proba(X_poli)"
   ]
  },
  {
   "cell_type": "code",
   "execution_count": null,
   "metadata": {},
   "outputs": [],
   "source": [
    "featuretable_preds = featuretable.copy()\n",
    "featuretable_preds[\"preds\"] = preds[:, 1]\n",
    "featuretable_preds[\"preds_poli\"] = preds_poli[:, 1]"
   ]
  },
  {
   "cell_type": "markdown",
   "metadata": {},
   "source": [
    "### Add predictions from different models per poli"
   ]
  },
  {
   "cell_type": "code",
   "execution_count": null,
   "metadata": {},
   "outputs": [],
   "source": [
    "for clinic in featuretable_preds.index.get_level_values(\"hoofdagenda\").unique():\n",
    "    X_clinic = X.loc[(slice(None), slice(None), clinic), :]\n",
    "    y_clinic = y.loc[X_clinic.index]\n",
    "    fitted_model_clinic = lgboost_model.fit(X_clinic, y_clinic)\n",
    "    preds_clinic = fitted_model_clinic.predict_proba(X_clinic)\n",
    "    featuretable_preds.loc[(slice(None), slice(None), clinic), \"preds_sep\"] = (\n",
    "        preds_clinic[:, 1]\n",
    "    )"
   ]
  },
  {
   "cell_type": "markdown",
   "metadata": {},
   "source": [
    "## Visualise the prediction distribution per clinic and per model"
   ]
  },
  {
   "cell_type": "code",
   "execution_count": null,
   "metadata": {},
   "outputs": [],
   "source": [
    "featuretable_preds[\"clinic\"] = featuretable_preds.index.get_level_values(\"hoofdagenda\")\n",
    "# Plot a historgram per clinic\n",
    "groups = featuretable_preds.groupby(\"clinic\")\n",
    "fig, ax = plt.subplots(len(groups), 1, figsize=(15, 20), sharex=True)\n",
    "for i, (clinic, group) in enumerate(groups):\n",
    "    group[\"preds\"].plot.hist(bins=100, alpha=0.5, legend=True, title=clinic, ax=ax[i])\n",
    "fig.show()"
   ]
  },
  {
   "cell_type": "code",
   "execution_count": null,
   "metadata": {},
   "outputs": [],
   "source": [
    "fig, ax = plt.subplots(len(groups), 1, figsize=(15, 20), sharex=True)\n",
    "for i, (clinic, group) in enumerate(groups):\n",
    "    group[\"preds_poli\"].plot.hist(\n",
    "        bins=100, alpha=0.5, legend=True, title=clinic, ax=ax[i]\n",
    "    )\n",
    "fig.show()"
   ]
  },
  {
   "cell_type": "markdown",
   "metadata": {},
   "source": [
    "## Visualise the distribution of called patients per prediction quantile and per model"
   ]
  },
  {
   "cell_type": "code",
   "execution_count": null,
   "metadata": {},
   "outputs": [],
   "source": [
    "featuretable_preds[\"preds_bin\"] = pd.qcut(featuretable_preds[\"preds\"], 10, labels=False)\n",
    "\n",
    "# plot per bin the number of predictions per clinic\n",
    "featuretable_preds.groupby(\n",
    "    [\"preds_bin\", \"clinic\"], observed=True\n",
    ").size().unstack().plot.bar(stacked=True, figsize=(15, 8))\n",
    "plt.show()\n",
    "\n",
    "featuretable_preds[\"preds_poli_bin\"] = pd.qcut(\n",
    "    featuretable_preds[\"preds_poli\"], 10, labels=False\n",
    ")\n",
    "featuretable_preds.groupby(\n",
    "    [\"preds_poli_bin\", \"clinic\"], observed=True\n",
    ").size().unstack().plot.bar(stacked=True, figsize=(15, 8))\n",
    "plt.show()"
   ]
  },
  {
   "cell_type": "markdown",
   "metadata": {},
   "source": [
    "## Create reclassification table"
   ]
  },
  {
   "cell_type": "code",
   "execution_count": null,
   "metadata": {},
   "outputs": [],
   "source": [
    "RELATIVE_TABLE = True"
   ]
  },
  {
   "cell_type": "code",
   "execution_count": null,
   "metadata": {},
   "outputs": [],
   "source": [
    "featuretable_preds[\"called_by_gen_model\"] = featuretable_preds[\"preds_bin\"] >= 8\n",
    "featuretable_preds[\"called_by_poli_model\"] = featuretable_preds[\"preds_poli_bin\"] >= 8\n",
    "\n",
    "reclassification_table = featuretable_preds.value_counts(\n",
    "    [\"called_by_gen_model\", \"called_by_poli_model\"], normalize=RELATIVE_TABLE\n",
    ").unstack()\n",
    "\n",
    "if RELATIVE_TABLE:\n",
    "    reclassification_table = round(reclassification_table * 100, 2)\n",
    "\n",
    "reclassification_table"
   ]
  },
  {
   "cell_type": "code",
   "execution_count": null,
   "metadata": {},
   "outputs": [],
   "source": [
    "# Create a visualisation of the previous reclassification table\n",
    "fig, ax = plt.subplots(1, 1, figsize=(10, 6))\n",
    "\n",
    "column_labels = [\"Not called by general model\", \"Called by general model\"]\n",
    "row_labels = [\"Not called by clinic model\", \"Called by clinic model\"]\n",
    "\n",
    "ax.imshow(reclassification_table)\n",
    "ax.set_xticks(np.arange(len(row_labels)), labels=row_labels)\n",
    "ax.set_yticks(np.arange(len(column_labels)), labels=column_labels)\n",
    "ax.set_title(\"Reclassification table\")\n",
    "\n",
    "for i in range(len(column_labels)):\n",
    "    for j in range(len(row_labels)):\n",
    "        ax.text(\n",
    "            j,\n",
    "            i,\n",
    "            reclassification_table.iloc[i, j],\n",
    "            ha=\"center\",\n",
    "            va=\"center\",\n",
    "            color=\"darkgrey\",\n",
    "            antialiased=True,\n",
    "            fontsize=16,\n",
    "        )"
   ]
  },
  {
   "cell_type": "code",
   "execution_count": null,
   "metadata": {},
   "outputs": [],
   "source": [
    "counts_series = featuretable_preds.groupby(\n",
    "    [\"clinic\", \"called_by_gen_model\", \"called_by_poli_model\"]\n",
    ").size()\n",
    "total_series = counts_series.groupby(\"clinic\").transform(\"sum\")\n",
    "reclassification_table_per_clinic = pd.concat([counts_series, total_series], axis=1)\n",
    "reclassification_table_per_clinic.columns = [\"count\", \"total\"]\n",
    "\n",
    "if RELATIVE_TABLE:\n",
    "    reclassification_table_per_clinic[\"count\"] = round(\n",
    "        reclassification_table_per_clinic[\"count\"]\n",
    "        / reclassification_table_per_clinic[\"total\"]\n",
    "        * 100,\n",
    "        2,\n",
    "    )\n",
    "\n",
    "reclassification_table_per_clinic = reclassification_table_per_clinic.drop(\n",
    "    columns=\"total\"\n",
    ").unstack()\n",
    "reclassification_table_per_clinic"
   ]
  },
  {
   "cell_type": "code",
   "execution_count": null,
   "metadata": {},
   "outputs": [],
   "source": [
    "fig, ax = plt.subplots(2, 3, figsize=(20, 15), layout=\"tight\")\n",
    "ax = ax.flatten()\n",
    "for i, clinic in enumerate(\n",
    "    reclassification_table_per_clinic.index.get_level_values(\"clinic\").unique()\n",
    "):\n",
    "    ax[i].set_title(clinic)\n",
    "    ax[i].imshow(reclassification_table_per_clinic.loc[clinic])\n",
    "    ax[i].set_xticks(np.arange(len(row_labels)), labels=row_labels)\n",
    "    ax[i].set_yticks(np.arange(len(column_labels)), labels=column_labels)\n",
    "\n",
    "    for j in range(len(column_labels)):\n",
    "        for k in range(len(row_labels)):\n",
    "            ax[i].text(\n",
    "                k,\n",
    "                j,\n",
    "                (\n",
    "                    f\"{reclassification_table_per_clinic.loc[clinic].iloc[j, k]}\"\n",
    "                    f\"{'%' if RELATIVE_TABLE else ''}\"\n",
    "                ),\n",
    "                ha=\"center\",\n",
    "                va=\"center\",\n",
    "                color=\"darkgrey\",\n",
    "                antialiased=True,\n",
    "                fontsize=18,\n",
    "            )\n",
    "fig.suptitle(\"Reclassification table per clinic\", fontsize=20)\n",
    "fig.show()"
   ]
  }
 ],
 "metadata": {
  "kernelspec": {
   "display_name": "discharge_documentation_env",
   "language": "python",
   "name": "python3"
  },
  "language_info": {
   "codemirror_mode": {
    "name": "ipython",
    "version": 3
   },
   "file_extension": ".py",
   "mimetype": "text/x-python",
   "name": "python",
   "nbconvert_exporter": "python",
   "pygments_lexer": "ipython3",
   "version": "3.11.8"
  }
 },
 "nbformat": 4,
 "nbformat_minor": 2
}
