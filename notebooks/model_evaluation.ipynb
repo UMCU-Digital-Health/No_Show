{
 "cells": [
  {
   "attachments": {},
   "cell_type": "markdown",
   "metadata": {},
   "source": [
    "# Evaluate model performance on test set"
   ]
  },
  {
   "cell_type": "code",
   "execution_count": null,
   "metadata": {},
   "outputs": [],
   "source": [
    "import pickle\n",
    "\n",
    "import matplotlib.pyplot as plt\n",
    "import numpy as np\n",
    "import pandas as pd\n",
    "import relplot as rp\n",
    "from sklearn.calibration import calibration_curve\n",
    "from sklearn.metrics import (\n",
    "    precision_recall_curve,\n",
    "    precision_score,\n",
    "    recall_score,\n",
    "    roc_auc_score,\n",
    "    roc_curve,\n",
    ")\n",
    "from sklearn.model_selection import train_test_split"
   ]
  },
  {
   "cell_type": "code",
   "execution_count": null,
   "metadata": {},
   "outputs": [],
   "source": [
    "with open(\"../output/models/no_show_model_cv.pickle\", \"rb\") as f:\n",
    "    model = pickle.load(f)\n",
    "\n",
    "featuretable = pd.read_parquet(\"../data/processed/featuretable.parquet\")\n",
    "\n",
    "featuretable[\"no_show\"] = featuretable[\"no_show\"].replace({\"no_show\": 1, \"show\": 0})\n",
    "\n",
    "X, y = featuretable.drop(columns=\"no_show\"), featuretable[\"no_show\"]\n",
    "\n",
    "X_train, X_test, y_train, y_test = train_test_split(\n",
    "    X, y, test_size=0.2, random_state=0, shuffle=False\n",
    ")"
   ]
  },
  {
   "attachments": {},
   "cell_type": "markdown",
   "metadata": {},
   "source": [
    "## ROC curve"
   ]
  },
  {
   "cell_type": "code",
   "execution_count": null,
   "metadata": {},
   "outputs": [],
   "source": [
    "y_pred = model.predict_proba(X_test)\n",
    "fpr, tpr, thresholds = roc_curve(y_test, y_pred[:, 1])\n",
    "auc_score = roc_auc_score(y_test, y_pred[:, 1])\n",
    "fig, ax = plt.subplots(figsize=(8, 8))\n",
    "ax.plot(fpr, tpr, label=f\"Hist Gradient Boosting (AUC={round(auc_score, 2)})\")\n",
    "ax.plot([0, 1], [0, 1], label=\"Random (AUC=0.5)\", linestyle=\"dotted\")\n",
    "ax.legend()\n",
    "plt.show()"
   ]
  },
  {
   "attachments": {},
   "cell_type": "markdown",
   "metadata": {},
   "source": [
    "## Prediction, recall"
   ]
  },
  {
   "cell_type": "code",
   "execution_count": null,
   "metadata": {},
   "outputs": [],
   "source": [
    "precision, recall, thresholds = precision_recall_curve(y_test, y_pred[:, 1])\n",
    "\n",
    "fig, ax = plt.subplots(figsize=(8, 8))\n",
    "ax.plot(thresholds, precision[:-1], label=\"precision\")\n",
    "ax.plot(thresholds, recall[:-1], label=\"recall\")\n",
    "ax.legend()\n",
    "plt.show()"
   ]
  },
  {
   "cell_type": "code",
   "execution_count": null,
   "metadata": {},
   "outputs": [],
   "source": [
    "X_test.resample(\"1D\", level=\"start\")[\"age\"].count().plot.hist(\n",
    "    title=\"Number of appointments per day\"\n",
    ")\n",
    "plt.show()"
   ]
  },
  {
   "cell_type": "code",
   "execution_count": null,
   "metadata": {},
   "outputs": [],
   "source": [
    "total_test_data = X_test.copy()\n",
    "total_test_data[\"y_pred\"] = y_pred[:, 1]\n",
    "total_test_data[\"y_true\"] = y_test\n",
    "\n",
    "test_dates = total_test_data.index.get_level_values(\"start\").date\n",
    "precisions = []\n",
    "precisions_random = []\n",
    "recalls = []\n",
    "recalls_random = []\n",
    "\n",
    "for i in range(5, 155, 5):\n",
    "    prec = []\n",
    "    prec_random = []\n",
    "    rec = []\n",
    "    rec_random = []\n",
    "    for name, group in total_test_data.groupby(\n",
    "        total_test_data.index.get_level_values(\"start\").date\n",
    "    ):\n",
    "        if name.weekday() not in [5, 6]:\n",
    "            group_random = group.copy().sample(frac=1)\n",
    "            group_random[\"predicted_value\"] = 0\n",
    "            group_random.iloc[:i, group_random.columns.get_loc(\"predicted_value\")] = 1\n",
    "            prec_random.append(\n",
    "                precision_score(group_random[\"y_true\"], group_random[\"predicted_value\"])\n",
    "            )\n",
    "            rec_random.append(\n",
    "                recall_score(group_random[\"y_true\"], group_random[\"predicted_value\"])\n",
    "            )\n",
    "\n",
    "            group = group.sort_values(\"y_pred\", ascending=False)\n",
    "            group[\"predicted_value\"] = 0\n",
    "            group.iloc[:i, group.columns.get_loc(\"predicted_value\")] = 1\n",
    "            prec.append(precision_score(group[\"y_true\"], group[\"predicted_value\"]))\n",
    "            rec.append(recall_score(group[\"y_true\"], group[\"predicted_value\"]))\n",
    "    precisions.append(prec)\n",
    "    precisions_random.append(prec_random)\n",
    "    recalls.append(rec)\n",
    "    recalls_random.append(rec_random)"
   ]
  },
  {
   "cell_type": "code",
   "execution_count": null,
   "metadata": {},
   "outputs": [],
   "source": [
    "print(f\"Daily precision: {np.mean(precisions[4])} (+- {np.std(precisions[4])})\")\n",
    "print(f\"Daily recall: {np.mean(recalls[4])} (+- {np.std(recalls[4])})\")"
   ]
  },
  {
   "cell_type": "code",
   "execution_count": null,
   "metadata": {},
   "outputs": [],
   "source": [
    "x_values = range(5, 155, 5)\n",
    "mean_precision = np.mean(precisions, axis=1)\n",
    "mean_recall = np.mean(recalls, axis=1)\n",
    "std_precision = np.std(precisions, axis=1)\n",
    "std_recall = np.std(recalls, axis=1)\n",
    "\n",
    "mean_precision_random = np.mean(precisions_random, axis=1)\n",
    "mean_recall_random = np.mean(recalls_random, axis=1)\n",
    "std_precision_random = np.std(precisions_random, axis=1)\n",
    "std_recall_random = np.std(recalls_random, axis=1)\n",
    "fig, ax = plt.subplots(figsize=(15, 8))\n",
    "\n",
    "ax.plot(x_values, mean_precision, label=\"precision\")\n",
    "ax.plot(x_values, mean_recall, label=\"recall\")\n",
    "ax.fill_between(\n",
    "    x_values,\n",
    "    mean_precision - std_precision,\n",
    "    mean_precision + std_precision,\n",
    "    label=\"std precision\",\n",
    "    alpha=0.3,\n",
    ")\n",
    "ax.fill_between(\n",
    "    x_values,\n",
    "    mean_recall - std_recall,\n",
    "    mean_recall + std_recall,\n",
    "    label=\"std recall\",\n",
    "    alpha=0.3,\n",
    ")\n",
    "ax.plot(x_values, mean_precision_random, label=\"precision_random\")\n",
    "ax.plot(x_values, mean_recall_random, label=\"recall_random\")\n",
    "ax.fill_between(\n",
    "    x_values,\n",
    "    mean_precision_random - std_precision_random,\n",
    "    mean_precision_random + std_precision_random,\n",
    "    label=\"std precision_random\",\n",
    "    alpha=0.3,\n",
    ")\n",
    "ax.fill_between(\n",
    "    x_values,\n",
    "    mean_recall_random - std_recall_random,\n",
    "    mean_recall_random + std_recall_random,\n",
    "    label=\"std recall_random\",\n",
    "    alpha=0.3,\n",
    ")\n",
    "ax.legend()\n",
    "ax.set_title(\"Recall and precision for number of people called per day\")\n",
    "ax.set_xlabel(\"People called per day\")\n",
    "ax.set_ylabel(\"Total score over all days\")\n",
    "ax.set_ylim((0, 1))\n",
    "plt.show()"
   ]
  },
  {
   "attachments": {},
   "cell_type": "markdown",
   "metadata": {},
   "source": [
    "## Calibration curve"
   ]
  },
  {
   "cell_type": "code",
   "execution_count": null,
   "metadata": {},
   "outputs": [],
   "source": [
    "prob_true, prob_pred = calibration_curve(y_test, y_pred[:, 1], n_bins=20)\n",
    "\n",
    "fix, ax = plt.subplots()\n",
    "ax.plot(prob_pred, prob_true, label=\"model calibration\")\n",
    "ax.plot([0, 1], [0, 1], label=\"perfect calibration\")\n",
    "ax.set_xlabel(\"Mean predicted probability\")\n",
    "ax.set_ylabel(\"Fraction of positives\")\n",
    "ax.set_title(\"Calibration curve\")\n",
    "ax.legend()\n",
    "plt.show()"
   ]
  },
  {
   "cell_type": "markdown",
   "metadata": {},
   "source": [
    "## Reliability plot"
   ]
  },
  {
   "cell_type": "code",
   "execution_count": null,
   "metadata": {},
   "outputs": [],
   "source": [
    "y_pred_total = model.predict_proba(X)\n",
    "print(\"calibration error:\", rp.smECE(y_pred_total[:, 1], y))\n",
    "fig, ax = rp.rel_diagram(y_pred_total[:, 1], y)\n",
    "fig.show()"
   ]
  },
  {
   "attachments": {},
   "cell_type": "markdown",
   "metadata": {},
   "source": [
    "## Feature importance"
   ]
  },
  {
   "cell_type": "code",
   "execution_count": null,
   "metadata": {},
   "outputs": [],
   "source": [
    "forest_importances = pd.Series(\n",
    "    model[-1].feature_importances_, index=model[0].get_feature_names_out()\n",
    ").sort_values()\n",
    "\n",
    "fig, ax = plt.subplots()\n",
    "ax.barh(\n",
    "    forest_importances.index,\n",
    "    forest_importances,\n",
    ")\n",
    "ax.set_title(\"Feature importances using MDI\")\n",
    "ax.set_ylabel(\"Mean decrease in impurity\")\n",
    "fig.tight_layout()\n",
    "plt.show()"
   ]
  },
  {
   "cell_type": "markdown",
   "metadata": {},
   "source": [
    "## Try out predictions"
   ]
  },
  {
   "cell_type": "code",
   "execution_count": null,
   "metadata": {},
   "outputs": [],
   "source": [
    "total_test_data.sort_values(\"y_pred\").head()"
   ]
  },
  {
   "cell_type": "code",
   "execution_count": null,
   "metadata": {},
   "outputs": [],
   "source": [
    "total_test_data.loc[(slice(None), \"2022-04-05\"), :].sort_values(\n",
    "    \"y_pred\", ascending=False\n",
    ")"
   ]
  },
  {
   "cell_type": "code",
   "execution_count": null,
   "metadata": {},
   "outputs": [],
   "source": [
    "from ipywidgets import FloatSlider, IntSlider, interact\n",
    "\n",
    "\n",
    "@interact\n",
    "def sim_prediction(\n",
    "    hour=IntSlider(9, 0, 24, 1),\n",
    "    weekday=IntSlider(0, 0, 6, 1),\n",
    "    specialty_code=\"REV\",\n",
    "    minutesDuration=IntSlider(30, 5, 120, 5),\n",
    "    prev_no_show=IntSlider(1, 0, 20, 1),\n",
    "    prev_no_show_perc=FloatSlider(0.03, min=0, max=1, step=0.01),\n",
    "    age=IntSlider(20, 0, 100, 1),\n",
    "    dist_umcu=IntSlider(45, 0, 200, 1),\n",
    "    prev_minutes_early=IntSlider(-3, -60, 60, 1),\n",
    "    earlier_appointments=IntSlider(10, 0, 100, 1),\n",
    "    appointments_same_day=IntSlider(1, 0, 7, 1),\n",
    "    appointments_last_days=IntSlider(1, 0, 100, 1),\n",
    "    days_since_created=IntSlider(150, 0, 365, 10),\n",
    "    days_since_last_appointment=IntSlider(21, 0, 365, 1),\n",
    "    poli_ident=\"Consult\",\n",
    "):\n",
    "    prediction_df = pd.DataFrame(\n",
    "        {\n",
    "            \"hour\": hour,\n",
    "            \"weekday\": weekday,\n",
    "            \"specialty_code\": specialty_code,\n",
    "            \"minutesDuration\": minutesDuration,\n",
    "            \"prev_no_show\": prev_no_show,\n",
    "            \"prev_no_show_perc\": prev_no_show_perc,\n",
    "            \"age\": age,\n",
    "            \"dist_umcu\": dist_umcu,\n",
    "            \"prev_minutes_early\": prev_minutes_early,\n",
    "            \"earlier_appointments\": earlier_appointments,\n",
    "            \"appointments_same_day\": appointments_same_day,\n",
    "            \"appointments_last_days\": appointments_last_days,\n",
    "            \"days_since_created\": days_since_created,\n",
    "            \"days_since_last_appointment\": days_since_last_appointment,\n",
    "            \"poli_ident\": poli_ident,\n",
    "        },\n",
    "        index=[0],\n",
    "    )\n",
    "\n",
    "    print(f\"Predicted value is: {model.predict_proba(prediction_df)[:,1]}\")"
   ]
  }
 ],
 "metadata": {
  "kernelspec": {
   "display_name": "no_show_ruben",
   "language": "python",
   "name": "python3"
  },
  "language_info": {
   "codemirror_mode": {
    "name": "ipython",
    "version": 3
   },
   "file_extension": ".py",
   "mimetype": "text/x-python",
   "name": "python",
   "nbconvert_exporter": "python",
   "pygments_lexer": "ipython3",
   "version": "3.8.16"
  }
 },
 "nbformat": 4,
 "nbformat_minor": 2
}
