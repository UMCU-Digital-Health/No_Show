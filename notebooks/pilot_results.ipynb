{
 "cells": [
  {
   "cell_type": "markdown",
   "metadata": {},
   "source": [
    "# Notebook to analyse the results from the pilot\n",
    "\n",
    "Mainly focussed on the stored information in the database"
   ]
  },
  {
   "cell_type": "code",
   "execution_count": null,
   "metadata": {},
   "outputs": [],
   "source": [
    "import os\n",
    "\n",
    "import matplotlib.pyplot as plt\n",
    "import pandas as pd\n",
    "from dotenv import load_dotenv\n",
    "from sqlalchemy import create_engine\n",
    "from sqlalchemy.orm import sessionmaker"
   ]
  },
  {
   "cell_type": "markdown",
   "metadata": {},
   "source": [
    "## Connect to Database"
   ]
  },
  {
   "cell_type": "code",
   "execution_count": null,
   "metadata": {},
   "outputs": [],
   "source": [
    "load_dotenv(\"../.env\")\n",
    "\n",
    "\n",
    "# Global and env variables\n",
    "db_user = os.environ[\"DB_USER\"]\n",
    "db_passwd = os.environ[\"DB_PASSWD\"]\n",
    "db_host = os.environ[\"DB_HOST\"]\n",
    "db_port = os.environ[\"DB_PORT\"]\n",
    "db_database = os.environ[\"DB_DATABASE\"]"
   ]
  },
  {
   "cell_type": "code",
   "execution_count": null,
   "metadata": {},
   "outputs": [],
   "source": [
    "CONNECTSTRING = (\n",
    "    rf\"mssql+pymssql://{db_user}:{db_passwd}@{db_host}:{db_port}/{db_database}\"\n",
    ")\n",
    "engine = create_engine(CONNECTSTRING)\n",
    "session_object = sessionmaker(bind=engine)"
   ]
  },
  {
   "cell_type": "code",
   "execution_count": null,
   "metadata": {},
   "outputs": [],
   "source": [
    "call_response = pd.read_sql_table(\"apicallresponse\", engine, schema=\"noshow\")\n",
    "prediction = pd.read_sql_table(\"apiprediction\", engine, schema=\"noshow\")\n",
    "requests = pd.read_sql_table(\"apirequest\", engine, schema=\"noshow\")"
   ]
  },
  {
   "cell_type": "markdown",
   "metadata": {},
   "source": [
    "## Preprocess data"
   ]
  },
  {
   "cell_type": "code",
   "execution_count": null,
   "metadata": {},
   "outputs": [],
   "source": [
    "requests"
   ]
  },
  {
   "cell_type": "code",
   "execution_count": null,
   "metadata": {},
   "outputs": [],
   "source": [
    "prediction_call = prediction.merge(\n",
    "    call_response, left_on=\"id\", right_on=\"prediction_id\"\n",
    ")\n",
    "prediction_call = prediction_call.loc[prediction_call[\"start_time\"] >= \"2023-10-02\"]\n",
    "prediction_call[\"start_time\"] = prediction_call[\"start_time\"].dt.date\n",
    "result_per_day = prediction_call.groupby(\n",
    "    [\"start_time\", \"clinic_name\", \"call_outcome\"]\n",
    ").size()"
   ]
  },
  {
   "cell_type": "markdown",
   "metadata": {},
   "source": [
    "## Analyze data"
   ]
  },
  {
   "cell_type": "code",
   "execution_count": null,
   "metadata": {},
   "outputs": [],
   "source": [
    "plt.figure(figsize=(10, 5))\n",
    "result_per_day.groupby(\"call_outcome\").sum().plot.bar()\n",
    "plt.title(\"Uitkomst Pilot\")\n",
    "plt.xlabel(\"\")\n",
    "plt.show()"
   ]
  },
  {
   "cell_type": "code",
   "execution_count": null,
   "metadata": {},
   "outputs": [],
   "source": [
    "result_per_day.loc[:, \"Kind-KNO\"].unstack().plot.bar()"
   ]
  },
  {
   "cell_type": "code",
   "execution_count": null,
   "metadata": {},
   "outputs": [],
   "source": [
    "prediction_call.groupby(\"clinic_name\").size()"
   ]
  },
  {
   "cell_type": "code",
   "execution_count": null,
   "metadata": {},
   "outputs": [],
   "source": [
    "prediction_call.groupby([\"clinic_name\", \"call_outcome\"]).size()"
   ]
  },
  {
   "cell_type": "code",
   "execution_count": null,
   "metadata": {},
   "outputs": [],
   "source": [
    "prediction_call.value_counts(\"call_status\")"
   ]
  },
  {
   "cell_type": "code",
   "execution_count": null,
   "metadata": {},
   "outputs": [],
   "source": [
    "prediction_call[\"remarks\"].drop_duplicates().values"
   ]
  },
  {
   "cell_type": "code",
   "execution_count": null,
   "metadata": {},
   "outputs": [],
   "source": [
    "prediction_call_request = prediction_call.merge(\n",
    "    requests, left_on=\"request_id\", right_on=\"id\"\n",
    ")\n",
    "prediction_call_request"
   ]
  },
  {
   "cell_type": "code",
   "execution_count": null,
   "metadata": {},
   "outputs": [],
   "source": [
    "prediction_call_request[\"day_called\"] = prediction_call_request[\"timestamp\"].dt.date\n",
    "prediction_call_request.groupby(\"day_called\").size()"
   ]
  },
  {
   "cell_type": "markdown",
   "metadata": {},
   "source": [
    "## Analyse text"
   ]
  },
  {
   "cell_type": "code",
   "execution_count": null,
   "metadata": {},
   "outputs": [],
   "source": [
    "text_contents = prediction_call[\"remarks\"].drop_duplicates().values\n",
    "text_contents = [val for val in text_contents if \"oicemail\" not in val]\n",
    "text_contents = [val for val in text_contents if \"oorverbin\" not in val]\n",
    "text_contents = [val for val in text_contents if \"eschikbaar\" not in val]\n",
    "text_contents"
   ]
  },
  {
   "cell_type": "markdown",
   "metadata": {},
   "source": [
    "Uitkomst open tekstvelden:\n",
    "- Wegens omstandigheden niet zeker of afspraak door kan gaan: 9\n",
    "- Niet/Laat op de hoogte van afspraak: 17\n",
    "- Positief: 3\n",
    "- Negatief: 2\n",
    "\n",
    "Veel mensen hebben moeite met digitaal portaal en als ze dan ook geen brief krijgen, hebben ze het overzicht niet.\n",
    "Daarnaast ook veel verkeerde nummers in systeem."
   ]
  }
 ],
 "metadata": {
  "kernelspec": {
   "display_name": "no_show_ruben",
   "language": "python",
   "name": "python3"
  },
  "language_info": {
   "codemirror_mode": {
    "name": "ipython",
    "version": 3
   },
   "file_extension": ".py",
   "mimetype": "text/x-python",
   "name": "python",
   "nbconvert_exporter": "python",
   "pygments_lexer": "ipython3",
   "version": "3.8.16"
  }
 },
 "nbformat": 4,
 "nbformat_minor": 2
}
