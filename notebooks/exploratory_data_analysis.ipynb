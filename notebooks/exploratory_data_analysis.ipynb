{
 "cells": [
  {
   "attachments": {},
   "cell_type": "markdown",
   "metadata": {},
   "source": [
    "# No Show EDA\n",
    "\n",
    "Exploratory data analysis of first datadump of no-show"
   ]
  },
  {
   "cell_type": "code",
   "execution_count": null,
   "metadata": {},
   "outputs": [],
   "source": [
    "%load_ext autoreload\n",
    "%autoreload 2\n",
    "\n",
    "import pandas as pd\n",
    "import matplotlib.pyplot as plt\n",
    "import numpy as np\n",
    "\n",
    "from noshow.preprocessing.geo import haversine_distance\n",
    "from noshow.visualisation.features_plots import feature_barplot, feature_scatter"
   ]
  },
  {
   "attachments": {},
   "cell_type": "markdown",
   "metadata": {},
   "source": [
    "## Read and clean data"
   ]
  },
  {
   "cell_type": "code",
   "execution_count": null,
   "metadata": {},
   "outputs": [],
   "source": [
    "appointments_df = pd.read_csv(\n",
    "    \"/mapr/nicu_ew/nicu_ew_onderzoeker/data/no_show/poliafspraken_no_show.csv\",\n",
    "    parse_dates=[\"created\"],\n",
    ")\n",
    "appointments_df[\"start\"] = pd.to_datetime(appointments_df[\"start\"], errors=\"coerce\")\n",
    "appointments_df[\"end\"] = pd.to_datetime(appointments_df[\"end\"], errors=\"coerce\")\n",
    "appointments_df[\"gearriveerd\"] = pd.to_datetime(\n",
    "    appointments_df[\"gearriveerd\"], errors=\"coerce\"\n",
    ")\n",
    "\n",
    "appointments_df[\"no_show\"] = appointments_df[\"cancelationReason_code\"].isin(\n",
    "    [\"M\", \"C2\", \"C3\", \"0000000010\", \"D1\", \"N\", \"E1\"]\n",
    ")\n",
    "appointments_df[\"no_show\"] = appointments_df[\"no_show\"].replace(\n",
    "    {True: \"no_show\", False: \"show\"}\n",
    ")\n",
    "\n",
    "# Some patients have multiple postal codes\n",
    "appointments_df = appointments_df.drop_duplicates(\n",
    "    subset=appointments_df.columns.difference([\"address_postalCodeNumbersNL\"])\n",
    ")\n",
    "\n",
    "# Some start dates are NaT\n",
    "appointments_df = appointments_df.loc[~appointments_df[\"start\"].isna()]\n",
    "\n",
    "# No phone consults\n",
    "appointments_df = appointments_df.loc[appointments_df[\"soort_consult\"] != \"Telefonisch\"]\n"
   ]
  },
  {
   "cell_type": "code",
   "execution_count": null,
   "metadata": {},
   "outputs": [],
   "source": [
    "appointments_df.shape"
   ]
  },
  {
   "attachments": {},
   "cell_type": "markdown",
   "metadata": {},
   "source": [
    "## Plot no-shows"
   ]
  },
  {
   "cell_type": "code",
   "execution_count": null,
   "metadata": {},
   "outputs": [],
   "source": [
    "cancelation_reason_count = (\n",
    "    appointments_df[appointments_df[\"no_show\"] == \"no_show\"]\n",
    "    .groupby(\"cancelationReason_display\")[\"no_show\"]\n",
    "    .count()\n",
    ")\n",
    "\n",
    "fig, ax = plt.subplots(figsize=(10, 8))\n",
    "\n",
    "bar_container = ax.bar(cancelation_reason_count.index, cancelation_reason_count)\n",
    "ax.bar_label(bar_container)\n",
    "ax.set_xticks(range(len(cancelation_reason_count.index)))\n",
    "ax.set_xticklabels(cancelation_reason_count.index, rotation=45, ha=\"right\")\n",
    "ax.set_title(\"Cancelation reasons for no-shows\")\n",
    "fig.set_tight_layout(\"h_pad\")\n",
    "plt.show()"
   ]
  },
  {
   "cell_type": "code",
   "execution_count": null,
   "metadata": {},
   "outputs": [],
   "source": [
    "no_show_per_specialisation = (\n",
    "    appointments_df.groupby(\"specialty_code\")[\"no_show\"].value_counts().unstack()\n",
    ")\n",
    "\n",
    "bottom = np.zeros(2)\n",
    "fig, ax = plt.subplots(figsize=(10, 4))\n",
    "for idx, row in no_show_per_specialisation.iterrows():\n",
    "    ax.bar([\"no-show\", \"show\"], row, label=idx, bottom=bottom)\n",
    "    bottom += row\n",
    "ax.legend()\n",
    "\n",
    "plt.show()\n"
   ]
  },
  {
   "cell_type": "code",
   "execution_count": null,
   "metadata": {},
   "outputs": [],
   "source": [
    "no_show_percent = (\n",
    "    appointments_df.groupby(\"no_show\")[\"specialty_code\"]\n",
    "    .value_counts(normalize=True)\n",
    "    .unstack(level=\"no_show\")\n",
    ")\n",
    "fig, ax = plt.subplots(figsize=(10, 4))\n",
    "\n",
    "bottom = np.zeros(2)\n",
    "for idx, row in no_show_percent.iterrows():\n",
    "    ax.bar([\"no-show\", \"show\"], row, label=idx, bottom=bottom)\n",
    "    bottom += row\n",
    "\n",
    "ax.legend()\n",
    "\n",
    "plt.show()\n"
   ]
  },
  {
   "cell_type": "code",
   "execution_count": null,
   "metadata": {},
   "outputs": [],
   "source": [
    "no_show_over_time = appointments_df.copy()\n",
    "no_show_over_time[\"start\"] = (\n",
    "    no_show_over_time[\"start\"].dt.to_period(\"Y\").dt.to_timestamp()\n",
    ")\n",
    "no_show_over_time = (\n",
    "    no_show_over_time.groupby([\"specialty_code\", \"start\"])[\"no_show\"]\n",
    "    .value_counts(normalize=False)\n",
    "    .unstack(level=\"no_show\")\n",
    ")\n",
    "\n",
    "fig, ax = plt.subplots(figsize=(12, 5))\n",
    "\n",
    "for idx in no_show_over_time.index.unique(level=\"specialty_code\"):\n",
    "    ax.plot(\n",
    "        no_show_over_time.loc[idx].index,\n",
    "        no_show_over_time.loc[idx, \"no_show\"],\n",
    "        label=idx,\n",
    "    )\n",
    "ax.legend()\n",
    "ax.spines.top.set_visible(False)\n",
    "ax.spines.right.set_visible(False)\n",
    "ax.set_title(\"Number of no-shows per specialty per year\")\n",
    "\n",
    "plt.show()\n"
   ]
  },
  {
   "attachments": {},
   "cell_type": "markdown",
   "metadata": {},
   "source": [
    "## Calculate earlier no-shows"
   ]
  },
  {
   "cell_type": "code",
   "execution_count": null,
   "metadata": {},
   "outputs": [],
   "source": [
    "appointments_features = appointments_df.set_index([\"pseudo_id\", \"start\"])\n",
    "appointments_features = appointments_features.sort_index(level=\"start\")\n",
    "appointments_features[\"prev_no_show\"] = appointments_features[\"no_show\"].replace(\n",
    "    {\"no_show\": 1, \"show\": 0}\n",
    ")\n",
    "\n",
    "appointments_features[\"prev_no_show\"] = (\n",
    "    appointments_features.groupby(\"pseudo_id\")[\"prev_no_show\"]\n",
    "    .shift(1, fill_value=0)\n",
    "    .groupby(\"pseudo_id\")\n",
    "    .cumsum()\n",
    ")\n",
    "\n",
    "appointments_features = appointments_features.sort_index(level=\"start\")\n",
    "appointments_features[\"earlier_appointments\"] = appointments_features.groupby(\n",
    "    \"pseudo_id\"\n",
    ")[\"no_show\"].cumcount()\n",
    "\n",
    "appointments_features[\"prev_no_show_perc\"] = (\n",
    "    appointments_features[\"prev_no_show\"]\n",
    "    / appointments_features[\"earlier_appointments\"]\n",
    ")\n",
    "appointments_features.loc[\n",
    "    appointments_features[\"prev_no_show_perc\"].isna(), \"prev_no_show_perc\"\n",
    "] = 0"
   ]
  },
  {
   "attachments": {},
   "cell_type": "markdown",
   "metadata": {},
   "source": [
    "### Plot earlier no show features"
   ]
  },
  {
   "cell_type": "code",
   "execution_count": null,
   "metadata": {},
   "outputs": [],
   "source": [
    "feature_barplot(appointments_features, \"prev_no_show\", feature_name=\"previous no-shows\")\n",
    "plt.show()"
   ]
  },
  {
   "cell_type": "code",
   "execution_count": null,
   "metadata": {},
   "outputs": [],
   "source": [
    "feature_barplot(\n",
    "    appointments_features,\n",
    "    \"prev_no_show_perc\",\n",
    "    feature_name=\"previous no-show percentage\",\n",
    "    perc_feature=True,\n",
    "    round_decimals=1,\n",
    ")\n",
    "plt.show()"
   ]
  },
  {
   "attachments": {},
   "cell_type": "markdown",
   "metadata": {},
   "source": [
    "## Calculate patient features"
   ]
  },
  {
   "attachments": {},
   "cell_type": "markdown",
   "metadata": {},
   "source": [
    "### Age"
   ]
  },
  {
   "cell_type": "code",
   "execution_count": null,
   "metadata": {},
   "outputs": [],
   "source": [
    "appointments_features[\"age\"] = (\n",
    "    appointments_features.index.get_level_values(\"start\").year\n",
    "    - appointments_features[\"BIRTH_YEAR\"]\n",
    ")"
   ]
  },
  {
   "attachments": {},
   "cell_type": "markdown",
   "metadata": {},
   "source": [
    "### Postal codes\n",
    "\n",
    "Using the dump from https://download.geonames.org/export/dump/"
   ]
  },
  {
   "cell_type": "code",
   "execution_count": null,
   "metadata": {},
   "outputs": [],
   "source": [
    "all_postalcodes = pd.read_table(\n",
    "    \"/mapr/nicu_ew/nicu_ew_onderzoeker/rpeters7/No_Show/data/raw/NL.txt\",\n",
    "    sep=\"\\t\",\n",
    "    header=None,\n",
    "    names=[\n",
    "        \"country\",\n",
    "        \"postalcode\",\n",
    "        \"city\",\n",
    "        \"admin_name1\",\n",
    "        \"admin_code1\",\n",
    "        \"admin_name2\",\n",
    "        \"admin_code2\",\n",
    "        \"admin_name3\",\n",
    "        \"admin_code3\",\n",
    "        \"latitude\",\n",
    "        \"longitude\",\n",
    "        \"accuracy\",\n",
    "    ],\n",
    ")\n",
    "all_postalcodes = all_postalcodes.set_index(\"postalcode\")[[\"latitude\", \"longitude\"]]\n",
    "all_postalcodes = all_postalcodes.loc[~all_postalcodes.index.duplicated()]\n",
    "all_postalcodes"
   ]
  },
  {
   "cell_type": "code",
   "execution_count": null,
   "metadata": {},
   "outputs": [],
   "source": [
    "appointments_features = appointments_features.merge(\n",
    "    all_postalcodes, left_on=\"address_postalCodeNumbersNL\", right_index=True\n",
    ")\n",
    "\n",
    "appointments_features[\"dist_umcu\"] = appointments_features.apply(\n",
    "    lambda x: haversine_distance(x[\"latitude\"], x[\"longitude\"]), axis=\"columns\"\n",
    ")"
   ]
  },
  {
   "attachments": {},
   "cell_type": "markdown",
   "metadata": {},
   "source": [
    "### Plot patient features"
   ]
  },
  {
   "cell_type": "code",
   "execution_count": null,
   "metadata": {},
   "outputs": [],
   "source": [
    "feature_scatter(appointments_features, \"age\")\n",
    "plt.show()\n"
   ]
  },
  {
   "cell_type": "code",
   "execution_count": null,
   "metadata": {},
   "outputs": [],
   "source": [
    "feature_scatter(\n",
    "    appointments_features,\n",
    "    \"dist_umcu\",\n",
    "    feature_name=\"distance to UMCU\",\n",
    "    round_feature=True,\n",
    ")\n",
    "plt.show()"
   ]
  },
  {
   "attachments": {},
   "cell_type": "markdown",
   "metadata": {},
   "source": [
    "## Calculate punctuality patients"
   ]
  },
  {
   "cell_type": "code",
   "execution_count": null,
   "metadata": {},
   "outputs": [],
   "source": [
    "appointments_features[\"minutes_early\"] = (\n",
    "    appointments_features.index.get_level_values(level=\"start\")\n",
    "    - appointments_features[\"gearriveerd\"]\n",
    ").dt.total_seconds() / 60\n",
    "\n",
    "appointments_features.loc[\n",
    "    appointments_features[\"minutes_early\"] > 60, \"minutes_early\"\n",
    "] = 0\n",
    "appointments_features.loc[\n",
    "    appointments_features[\"minutes_early\"] < -60, \"minutes_early\"\n",
    "] = 0\n",
    "\n",
    "appointments_features[\"minutes_early\"].plot.hist(bins=10)\n"
   ]
  },
  {
   "cell_type": "code",
   "execution_count": null,
   "metadata": {},
   "outputs": [],
   "source": [
    "appointments_features = appointments_features.sort_index(level=\"start\")\n",
    "appointments_features[\"prev_minutes_early\"] = (\n",
    "    appointments_features.groupby(level=\"pseudo_id\")[\"minutes_early\"]\n",
    "    .shift(1, fill_value=0)\n",
    "    .groupby(level=\"pseudo_id\")\n",
    "    .cumsum()\n",
    "    / appointments_features[\"earlier_appointments\"]\n",
    ")\n",
    "\n",
    "appointments_features[\"prev_minutes_early\"] = appointments_features[\n",
    "    \"prev_minutes_early\"\n",
    "].replace([np.inf, -np.inf, np.nan], 0)\n"
   ]
  },
  {
   "attachments": {},
   "cell_type": "markdown",
   "metadata": {},
   "source": [
    "### Plot punctuality vs no show"
   ]
  },
  {
   "cell_type": "code",
   "execution_count": null,
   "metadata": {},
   "outputs": [],
   "source": [
    "feature_scatter(\n",
    "    appointments_features,\n",
    "    \"prev_minutes_early\",\n",
    "    feature_name=\"previous minutes too early\",\n",
    "    round_feature=True,\n",
    ")\n",
    "plt.show()"
   ]
  },
  {
   "attachments": {},
   "cell_type": "markdown",
   "metadata": {},
   "source": [
    "## Add time features"
   ]
  },
  {
   "cell_type": "code",
   "execution_count": null,
   "metadata": {},
   "outputs": [],
   "source": [
    "appointments_features[\"weekday\"] = appointments_features.index.get_level_values(\n",
    "    \"start\"\n",
    ").weekday\n",
    "appointments_features[\"hour\"] = appointments_features.index.get_level_values(\n",
    "    \"start\"\n",
    ").hour\n"
   ]
  },
  {
   "cell_type": "code",
   "execution_count": null,
   "metadata": {},
   "outputs": [],
   "source": [
    "feature_barplot(appointments_features, \"hour\")\n",
    "plt.show()\n"
   ]
  },
  {
   "cell_type": "code",
   "execution_count": null,
   "metadata": {},
   "outputs": [],
   "source": [
    "feature_barplot(appointments_features, \"weekday\")\n",
    "plt.show()\n"
   ]
  },
  {
   "attachments": {},
   "cell_type": "markdown",
   "metadata": {},
   "source": [
    "## Plot categorical features"
   ]
  },
  {
   "cell_type": "code",
   "execution_count": null,
   "metadata": {},
   "outputs": [],
   "source": [
    "feature_barplot(appointments_features, \"specialty_code\")\n",
    "plt.show()\n"
   ]
  },
  {
   "cell_type": "code",
   "execution_count": null,
   "metadata": {},
   "outputs": [],
   "source": [
    "feature_barplot(appointments_features, \"appointmentType_code\")\n"
   ]
  },
  {
   "cell_type": "code",
   "execution_count": null,
   "metadata": {},
   "outputs": [],
   "source": [
    "(\n",
    "    appointments_features.groupby(\"appointmentType_code\")[\"no_show\"]\n",
    "    .value_counts(normalize=False, dropna=False)\n",
    "    .unstack(level=\"no_show\")\n",
    ")"
   ]
  },
  {
   "attachments": {},
   "cell_type": "markdown",
   "metadata": {},
   "source": [
    "## Save featuretable"
   ]
  },
  {
   "cell_type": "code",
   "execution_count": null,
   "metadata": {},
   "outputs": [],
   "source": [
    "appointments_features[\n",
    "    [\n",
    "        \"hour\",\n",
    "        \"weekday\",\n",
    "        \"specialty_code\",\n",
    "        # \"appointmentType_code\", # Figure out what's going wrong here\n",
    "        \"minutesDuration\",\n",
    "        \"no_show\",\n",
    "        \"prev_no_show\",\n",
    "        \"prev_no_show_perc\",\n",
    "        \"age\",\n",
    "        \"dist_umcu\",\n",
    "        \"prev_minutes_early\",\n",
    "    ]\n",
    "].to_parquet(\n",
    "    \"/mapr/nicu_ew/nicu_ew_onderzoeker/rpeters7/No_Show/data/processed/featuretable.parquet\"\n",
    ")"
   ]
  }
 ],
 "metadata": {
  "kernelspec": {
   "display_name": "no_show_ruben",
   "language": "python",
   "name": "no_show_ruben"
  },
  "language_info": {
   "codemirror_mode": {
    "name": "ipython",
    "version": 3
   },
   "file_extension": ".py",
   "mimetype": "text/x-python",
   "name": "python",
   "nbconvert_exporter": "python",
   "pygments_lexer": "ipython3",
   "version": "3.8.12"
  },
  "orig_nbformat": 4
 },
 "nbformat": 4,
 "nbformat_minor": 2
}
