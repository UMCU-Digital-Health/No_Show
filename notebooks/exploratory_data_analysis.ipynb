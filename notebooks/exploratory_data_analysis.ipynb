{
 "cells": [
  {
   "attachments": {},
   "cell_type": "markdown",
   "metadata": {},
   "source": [
    "# No Show EDA\n",
    "\n",
    "Exploratory data analysis of first datadump of no-show"
   ]
  },
  {
   "cell_type": "code",
   "execution_count": null,
   "metadata": {},
   "outputs": [],
   "source": [
    "%load_ext autoreload\n",
    "%autoreload 2\n",
    "\n",
    "import matplotlib.pyplot as plt\n",
    "import numpy as np\n",
    "\n",
    "from noshow.preprocessing.load_data import process_appointments, process_postal_codes, load_appointment_csv\n",
    "from noshow.visualisation.features_plots import feature_barplot, feature_scatter\n",
    "from noshow.features.no_show_features import prev_no_show_features\n",
    "from noshow.features.appointment_features import add_days_since_created, add_appointments_same_day, add_minutes_early, add_time_features, add_days_since_last_appointment, add_appointments_last_days\n",
    "from noshow.features.patient_features import add_patient_features"
   ]
  },
  {
   "attachments": {},
   "cell_type": "markdown",
   "metadata": {},
   "source": [
    "## Read and clean data"
   ]
  },
  {
   "cell_type": "code",
   "execution_count": null,
   "metadata": {},
   "outputs": [],
   "source": [
    "appointments_df = load_appointment_csv(\"../data/raw/poliafspraken_no_show.csv\")\n",
    "appointments_df = process_appointments(appointments_df)\n",
    "appointments_df.shape\n"
   ]
  },
  {
   "attachments": {},
   "cell_type": "markdown",
   "metadata": {},
   "source": [
    "## Plot no-shows"
   ]
  },
  {
   "cell_type": "code",
   "execution_count": null,
   "metadata": {},
   "outputs": [],
   "source": [
    "cancelation_reason_count = (\n",
    "    appointments_df[appointments_df[\"no_show\"] == \"no_show\"]\n",
    "    .groupby(\"cancelationReason_display\")[\"no_show\"]\n",
    "    .count()\n",
    ")\n",
    "\n",
    "fig, ax = plt.subplots(figsize=(10, 8))\n",
    "\n",
    "bar_container = ax.bar(cancelation_reason_count.index, cancelation_reason_count)\n",
    "ax.bar_label(bar_container)\n",
    "ax.set_xticks(range(len(cancelation_reason_count.index)))\n",
    "ax.set_xticklabels(cancelation_reason_count.index, rotation=45, ha=\"right\")\n",
    "ax.set_title(\"Cancelation reasons for no-shows\")\n",
    "fig.set_tight_layout(\"h_pad\")\n",
    "plt.show()"
   ]
  },
  {
   "cell_type": "code",
   "execution_count": null,
   "metadata": {},
   "outputs": [],
   "source": [
    "no_show_per_specialisation = (\n",
    "    appointments_df.groupby(\"specialty_code\")[\"no_show\"].value_counts().unstack()\n",
    ")\n",
    "\n",
    "bottom = np.zeros(2)\n",
    "fig, ax = plt.subplots(figsize=(10, 4))\n",
    "for idx, row in no_show_per_specialisation.iterrows():\n",
    "    ax.bar([\"no-show\", \"show\"], row, label=idx, bottom=bottom)\n",
    "    bottom += row\n",
    "ax.legend()\n",
    "\n",
    "plt.show()\n"
   ]
  },
  {
   "cell_type": "code",
   "execution_count": null,
   "metadata": {},
   "outputs": [],
   "source": [
    "no_show_percent = (\n",
    "    appointments_df.groupby(\"no_show\")[\"specialty_code\"]\n",
    "    .value_counts(normalize=True)\n",
    "    .unstack(level=\"no_show\")\n",
    ")\n",
    "fig, ax = plt.subplots(figsize=(10, 4))\n",
    "\n",
    "bottom = np.zeros(2)\n",
    "for idx, row in no_show_percent.iterrows():\n",
    "    ax.bar([\"no-show\", \"show\"], row, label=idx, bottom=bottom)\n",
    "    bottom += row\n",
    "\n",
    "ax.legend()\n",
    "\n",
    "plt.show()\n"
   ]
  },
  {
   "cell_type": "code",
   "execution_count": null,
   "metadata": {},
   "outputs": [],
   "source": [
    "no_show_over_time = appointments_df.copy().reset_index()\n",
    "no_show_over_time[\"start\"] = (\n",
    "    no_show_over_time[\"start\"].dt.to_period(\"Y\").dt.to_timestamp()\n",
    ")\n",
    "no_show_over_time = (\n",
    "    no_show_over_time.groupby([\"specialty_code\", \"start\"])[\"no_show\"]\n",
    "    .value_counts(normalize=False)\n",
    "    .unstack(level=\"no_show\")\n",
    ")\n",
    "\n",
    "fig, ax = plt.subplots(figsize=(12, 5))\n",
    "\n",
    "for idx in no_show_over_time.index.unique(level=\"specialty_code\"):\n",
    "    ax.plot(\n",
    "        no_show_over_time.loc[idx].index,\n",
    "        no_show_over_time.loc[idx, \"no_show\"],\n",
    "        label=idx,\n",
    "    )\n",
    "ax.legend()\n",
    "ax.spines.top.set_visible(False)\n",
    "ax.spines.right.set_visible(False)\n",
    "ax.set_title(\"Number of no-shows per specialty per year\")\n",
    "\n",
    "plt.show()\n"
   ]
  },
  {
   "attachments": {},
   "cell_type": "markdown",
   "metadata": {},
   "source": [
    "## Calculate earlier no-shows"
   ]
  },
  {
   "cell_type": "code",
   "execution_count": null,
   "metadata": {},
   "outputs": [],
   "source": [
    "appointments_features = prev_no_show_features(appointments_df)"
   ]
  },
  {
   "cell_type": "code",
   "execution_count": null,
   "metadata": {},
   "outputs": [],
   "source": [
    "feature_barplot(appointments_features, \"prev_no_show\", feature_name=\"previous no-shows\")\n",
    "plt.show()"
   ]
  },
  {
   "cell_type": "code",
   "execution_count": null,
   "metadata": {},
   "outputs": [],
   "source": [
    "feature_barplot(\n",
    "    appointments_features,\n",
    "    \"prev_no_show_perc\",\n",
    "    feature_name=\"previous no-show percentage\",\n",
    "    perc_feature=True,\n",
    "    round_decimals=1,\n",
    ")\n",
    "plt.show()"
   ]
  },
  {
   "cell_type": "code",
   "execution_count": null,
   "metadata": {},
   "outputs": [],
   "source": [
    "feature_scatter(appointments_features, \"earlier_appointments\")\n",
    "plt.show()"
   ]
  },
  {
   "attachments": {},
   "cell_type": "markdown",
   "metadata": {},
   "source": [
    "### Calculate days since created"
   ]
  },
  {
   "cell_type": "code",
   "execution_count": null,
   "metadata": {},
   "outputs": [],
   "source": [
    "appointments_features = add_days_since_created(appointments_features)\n"
   ]
  },
  {
   "cell_type": "code",
   "execution_count": null,
   "metadata": {},
   "outputs": [],
   "source": [
    "feature_scatter(appointments_features, \"days_since_created\")\n",
    "plt.show()\n"
   ]
  },
  {
   "attachments": {},
   "cell_type": "markdown",
   "metadata": {},
   "source": [
    "### Calculate appointments on the same day"
   ]
  },
  {
   "cell_type": "code",
   "execution_count": null,
   "metadata": {},
   "outputs": [],
   "source": [
    "appointments_features = add_appointments_same_day(appointments_features)\n"
   ]
  },
  {
   "cell_type": "code",
   "execution_count": null,
   "metadata": {},
   "outputs": [],
   "source": [
    "feature_barplot(appointments_features, \"appointments_same_day\")\n",
    "plt.show()\n"
   ]
  },
  {
   "cell_type": "code",
   "execution_count": null,
   "metadata": {},
   "outputs": [],
   "source": [
    "appointments_features = add_days_since_last_appointment(appointments_features)\n",
    "appointments_features = add_appointments_last_days(appointments_features)\n"
   ]
  },
  {
   "cell_type": "code",
   "execution_count": null,
   "metadata": {},
   "outputs": [],
   "source": [
    "feature_scatter(appointments_features, \"days_since_last_appointment\")\n",
    "plt.show()\n"
   ]
  },
  {
   "cell_type": "code",
   "execution_count": null,
   "metadata": {},
   "outputs": [],
   "source": [
    "feature_barplot(appointments_features, \"appointments_last_days\")\n",
    "plt.show()\n"
   ]
  },
  {
   "attachments": {},
   "cell_type": "markdown",
   "metadata": {},
   "source": [
    "## Calculate patient features"
   ]
  },
  {
   "attachments": {},
   "cell_type": "markdown",
   "metadata": {},
   "source": [
    "### Postal codes\n",
    "\n",
    "Using the dump from https://download.geonames.org/export/dump/"
   ]
  },
  {
   "cell_type": "code",
   "execution_count": null,
   "metadata": {},
   "outputs": [],
   "source": [
    "all_postalcodes = process_postal_codes(\"../data/raw/NL.txt\")\n",
    "appointments_features = add_patient_features(appointments_features, all_postalcodes)"
   ]
  },
  {
   "attachments": {},
   "cell_type": "markdown",
   "metadata": {},
   "source": [
    "### Plot patient features"
   ]
  },
  {
   "cell_type": "code",
   "execution_count": null,
   "metadata": {},
   "outputs": [],
   "source": [
    "feature_scatter(appointments_features, \"age\")\n",
    "plt.show()\n"
   ]
  },
  {
   "cell_type": "code",
   "execution_count": null,
   "metadata": {},
   "outputs": [],
   "source": [
    "feature_scatter(\n",
    "    appointments_features,\n",
    "    \"dist_umcu\",\n",
    "    feature_name=\"distance to UMCU\",\n",
    "    round_feature=True,\n",
    ")\n",
    "plt.show()"
   ]
  },
  {
   "attachments": {},
   "cell_type": "markdown",
   "metadata": {},
   "source": [
    "## Calculate punctuality patients"
   ]
  },
  {
   "cell_type": "code",
   "execution_count": null,
   "metadata": {},
   "outputs": [],
   "source": [
    "appointments_features = add_minutes_early(appointments_features)\n"
   ]
  },
  {
   "cell_type": "code",
   "execution_count": null,
   "metadata": {},
   "outputs": [],
   "source": [
    "appointments_features[\"minutes_early\"].plot.hist(bins=10)\n"
   ]
  },
  {
   "attachments": {},
   "cell_type": "markdown",
   "metadata": {},
   "source": [
    "### Plot punctuality vs no show"
   ]
  },
  {
   "cell_type": "code",
   "execution_count": null,
   "metadata": {},
   "outputs": [],
   "source": [
    "feature_scatter(\n",
    "    appointments_features,\n",
    "    \"prev_minutes_early\",\n",
    "    feature_name=\"previous minutes too early\",\n",
    "    round_feature=True,\n",
    ")\n",
    "plt.show()"
   ]
  },
  {
   "attachments": {},
   "cell_type": "markdown",
   "metadata": {},
   "source": [
    "## Add time features"
   ]
  },
  {
   "cell_type": "code",
   "execution_count": null,
   "metadata": {},
   "outputs": [],
   "source": [
    "appointments_features = add_time_features(appointments_features)\n"
   ]
  },
  {
   "cell_type": "code",
   "execution_count": null,
   "metadata": {},
   "outputs": [],
   "source": [
    "feature_barplot(appointments_features, \"hour\")\n",
    "plt.show()\n"
   ]
  },
  {
   "cell_type": "code",
   "execution_count": null,
   "metadata": {},
   "outputs": [],
   "source": [
    "feature_barplot(appointments_features, \"weekday\")\n",
    "plt.show()\n"
   ]
  },
  {
   "attachments": {},
   "cell_type": "markdown",
   "metadata": {},
   "source": [
    "## Plot categorical features"
   ]
  },
  {
   "cell_type": "code",
   "execution_count": null,
   "metadata": {},
   "outputs": [],
   "source": [
    "ax = feature_barplot(appointments_features, \"specialty_code\")\n",
    "ax.tick_params(\"x\", labelrotation=45)\n",
    "plt.show()\n"
   ]
  },
  {
   "cell_type": "code",
   "execution_count": null,
   "metadata": {},
   "outputs": [],
   "source": [
    "appointments_df[\"specialty_code\"].value_counts()"
   ]
  },
  {
   "attachments": {},
   "cell_type": "markdown",
   "metadata": {},
   "source": [
    "## Save featuretable"
   ]
  },
  {
   "cell_type": "code",
   "execution_count": null,
   "metadata": {},
   "outputs": [],
   "source": [
    "appointments_features[\n",
    "    [\n",
    "        \"hour\",\n",
    "        \"weekday\",\n",
    "        \"specialty_code\",\n",
    "        \"minutesDuration\",\n",
    "        \"no_show\",\n",
    "        \"prev_no_show\",\n",
    "        \"prev_no_show_perc\",\n",
    "        \"age\",\n",
    "        \"dist_umcu\",\n",
    "        \"prev_minutes_early\",\n",
    "        \"earlier_appointments\",\n",
    "        \"appointments_same_day\",\n",
    "        \"days_since_created\",\n",
    "    ]\n",
    "].to_parquet(\n",
    "    \"/mapr/no_show/no_show_onderzoeker/rpeters7/No_Show/data/processed/featuretable.parquet\"\n",
    ")\n"
   ]
  }
 ],
 "metadata": {
  "kernelspec": {
   "display_name": "no_show_ruben",
   "language": "python",
   "name": "python3"
  },
  "language_info": {
   "codemirror_mode": {
    "name": "ipython",
    "version": 3
   },
   "file_extension": ".py",
   "mimetype": "text/x-python",
   "name": "python",
   "nbconvert_exporter": "python",
   "pygments_lexer": "ipython3",
   "version": "3.8.16"
  },
  "orig_nbformat": 4
 },
 "nbformat": 4,
 "nbformat_minor": 2
}
