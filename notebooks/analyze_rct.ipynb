{
 "cells": [
  {
   "cell_type": "markdown",
   "metadata": {},
   "source": [
    "# Export and analyze RCT results\n",
    "\n",
    "Notebook to export and analyze data from the RCT period"
   ]
  },
  {
   "cell_type": "markdown",
   "metadata": {},
   "source": [
    "## Initialize packages and defaults"
   ]
  },
  {
   "cell_type": "code",
   "execution_count": null,
   "metadata": {},
   "outputs": [],
   "source": [
    "import os\n",
    "\n",
    "import matplotlib as mpl\n",
    "import matplotlib.pyplot as plt\n",
    "import pandas as pd\n",
    "from dotenv import load_dotenv\n",
    "from sqlalchemy import create_engine\n",
    "from sqlalchemy.orm import sessionmaker"
   ]
  },
  {
   "cell_type": "code",
   "execution_count": null,
   "metadata": {},
   "outputs": [],
   "source": [
    "mpl.rcdefaults()\n",
    "\n",
    "# remove top and right splines\n",
    "mpl.rcParams[\"axes.spines.top\"] = False\n",
    "mpl.rcParams[\"axes.spines.right\"] = False\n",
    "mpl.rcParams[\"axes.axisbelow\"] = True\n",
    "\n",
    "pd.options.mode.copy_on_write = True"
   ]
  },
  {
   "cell_type": "markdown",
   "metadata": {},
   "source": [
    "## Connect to DB and export data"
   ]
  },
  {
   "cell_type": "code",
   "execution_count": null,
   "metadata": {},
   "outputs": [],
   "source": [
    "load_dotenv(\"../.env\")\n",
    "\n",
    "\n",
    "# Global and env variables\n",
    "db_user = os.environ[\"DB_USER\"]\n",
    "db_passwd = os.environ[\"DB_PASSWD\"]\n",
    "db_host = os.environ[\"DB_HOST\"]\n",
    "db_port = os.environ[\"DB_PORT\"]\n",
    "db_database = os.environ[\"DB_DATABASE\"]"
   ]
  },
  {
   "cell_type": "code",
   "execution_count": null,
   "metadata": {},
   "outputs": [],
   "source": [
    "CONNECTSTRING = (\n",
    "    rf\"mssql+pymssql://{db_user}:{db_passwd}@{db_host}:{db_port}/{db_database}\"\n",
    ")\n",
    "engine = create_engine(CONNECTSTRING)\n",
    "session_object = sessionmaker(bind=engine)"
   ]
  },
  {
   "cell_type": "code",
   "execution_count": null,
   "metadata": {},
   "outputs": [],
   "source": [
    "call_response = pd.read_sql_table(\"apicallresponse\", engine, schema=\"noshow\")\n",
    "prediction = pd.read_sql_table(\"apiprediction\", engine, schema=\"noshow\")\n",
    "requests = pd.read_sql_table(\"apirequest\", engine, schema=\"noshow\")\n",
    "patients = pd.read_sql_table(\"apipatient\", engine, schema=\"noshow\")"
   ]
  },
  {
   "cell_type": "markdown",
   "metadata": {},
   "source": [
    "## Read and preprocess data"
   ]
  },
  {
   "cell_type": "code",
   "execution_count": null,
   "metadata": {},
   "outputs": [],
   "source": [
    "data_export = pd.read_csv(\n",
    "    \"../data/raw/poliafspraken_rct.csv\", parse_dates=[\"start\", \"end\"]\n",
    ").drop(columns=[\"specialty_code\", \"name\", \"soort_consult\", \"afspraak_code\"])\n",
    "data_export.loc[data_export[\"mutationReason_code\"] == \"N\", \"outcome\"] = \"No-Show\"\n",
    "data_export.loc[data_export[\"status_code_original\"] == \"J\", \"outcome\"] = \"Show\"\n",
    "data_export = data_export.drop(\n",
    "    columns=[\n",
    "        \"mutationReason_code\",\n",
    "        \"status_code_original\",\n",
    "        \"status\",\n",
    "        \"mutationReason_display\",\n",
    "    ]\n",
    ")\n",
    "data_export"
   ]
  },
  {
   "cell_type": "code",
   "execution_count": null,
   "metadata": {},
   "outputs": [],
   "source": [
    "live_data_rct = (\n",
    "    prediction.rename(columns={\"id\": \"prediction_id\"})\n",
    "    .merge(call_response, on=\"prediction_id\", how=\"left\")\n",
    "    .merge(patients, left_on=\"patient_id\", right_on=\"id\", how=\"left\")\n",
    "    .drop(\n",
    "        columns=[\n",
    "            \"id_y\",\n",
    "            \"id_x\",\n",
    "            \"clinic_phone_number\",\n",
    "            \"clinic_teleq_unit\",\n",
    "            \"call_number\",\n",
    "            \"opt_out\",\n",
    "        ]\n",
    "    )\n",
    ")\n",
    "\n",
    "live_data_rct[\"prediction_id\"] = live_data_rct[\"prediction_id\"].astype(\"int64\")\n",
    "live_data_rct = live_data_rct[live_data_rct[\"treatment_group\"] != 2]\n",
    "# live_data_rct = live_data_rct[live_data_rct[\"active\"] == 1]\n",
    "live_data_rct = live_data_rct.drop(\n",
    "    columns=[\"active\", \"clinic_reception\", \"request_id\", \"remarks\"]\n",
    ")"
   ]
  },
  {
   "cell_type": "code",
   "execution_count": null,
   "metadata": {},
   "outputs": [],
   "source": [
    "live_data_rct"
   ]
  },
  {
   "cell_type": "markdown",
   "metadata": {},
   "source": [
    "## Combine data export and live data"
   ]
  },
  {
   "cell_type": "code",
   "execution_count": null,
   "metadata": {},
   "outputs": [],
   "source": [
    "combined_data = live_data_rct.merge(\n",
    "    data_export,\n",
    "    left_on=\"prediction_id\",\n",
    "    right_on=\"APP_ID\",\n",
    "    how=\"left\",\n",
    ")\n",
    "combined_data"
   ]
  },
  {
   "cell_type": "code",
   "execution_count": null,
   "metadata": {},
   "outputs": [],
   "source": [
    "combined_data.to_csv(\"../data/processed/data_rct.csv\", index=False)"
   ]
  },
  {
   "cell_type": "markdown",
   "metadata": {},
   "source": [
    "## Analyze No-Show"
   ]
  },
  {
   "cell_type": "code",
   "execution_count": null,
   "metadata": {},
   "outputs": [],
   "source": [
    "# Analyse how many appointments with status \"herinnerd\" are actually completed\n",
    "combined_data.loc[combined_data[\"call_outcome\"] == \"Herinnerd\"].value_counts(\n",
    "    \"outcome\", normalize=True\n",
    ")"
   ]
  },
  {
   "cell_type": "code",
   "execution_count": null,
   "metadata": {},
   "outputs": [],
   "source": [
    "combined_data.loc[combined_data[\"call_outcome\"] == \"Geen\"].value_counts(\n",
    "    \"outcome\", normalize=True\n",
    ")"
   ]
  },
  {
   "cell_type": "code",
   "execution_count": null,
   "metadata": {},
   "outputs": [],
   "source": [
    "combined_data[\"call_outcome\"].value_counts()"
   ]
  },
  {
   "cell_type": "code",
   "execution_count": null,
   "metadata": {},
   "outputs": [],
   "source": [
    "# How many appointments with call outcome verzet/geannulleerd are actually changed and\n",
    "# subsequently completed\n",
    "combined_data.loc[\n",
    "    combined_data[\"start_time\"] != combined_data[\"start\"], \"app_moved\"\n",
    "] = True\n",
    "combined_data.loc[\n",
    "    combined_data[\"start_time\"] == combined_data[\"start\"], \"app_moved\"\n",
    "] = False\n",
    "combined_data.loc[combined_data[\"call_outcome\"] == \"Verzet/Geannuleerd\"].value_counts(\n",
    "    [\"app_moved\", \"outcome\"], dropna=False\n",
    ").unstack()"
   ]
  },
  {
   "cell_type": "code",
   "execution_count": null,
   "metadata": {},
   "outputs": [],
   "source": [
    "fig, ax = plt.subplots(figsize=(10, 6))\n",
    "ax = (\n",
    "    combined_data.groupby([\"treatment_group\", \"call_outcome\"], dropna=False)\n",
    "    .size()\n",
    "    .unstack()\n",
    "    .plot.bar(stacked=True, ax=ax)\n",
    ")\n",
    "ax.set_ylabel(\"Aantal afspraken\")\n",
    "ax.set_xlabel(\"\")\n",
    "ax.set_title(\"Aantal afspraken in de RCT\")\n",
    "ax.legend(title=\"Uitkomst\", loc=\"upper left\")\n",
    "\n",
    "\n",
    "# rename x_label values\n",
    "labels = [\"Controle\", \"Interventie\"]\n",
    "ax.set_xticklabels(labels)\n",
    "fig.set_layout_engine(\"tight\")\n",
    "fig.show()"
   ]
  },
  {
   "cell_type": "code",
   "execution_count": null,
   "metadata": {},
   "outputs": [],
   "source": [
    "combined_data[\"no_show\"] = combined_data[\"outcome\"] == \"No-Show\"\n",
    "combined_data = combined_data[combined_data[\"outcome\"].notnull()]\n",
    "combined_data.groupby([\"treatment_group\", \"no_show\"]).size().unstack().plot.bar(\n",
    "    stacked=True\n",
    ")"
   ]
  },
  {
   "cell_type": "code",
   "execution_count": null,
   "metadata": {},
   "outputs": [],
   "source": [
    "# Calculate the no_show rate for each treatment group\n",
    "no_show_rate = combined_data.groupby(\"treatment_group\")[\"no_show\"].agg(\n",
    "    [\"mean\", \"count\"]\n",
    ")\n",
    "no_show_rate"
   ]
  },
  {
   "cell_type": "code",
   "execution_count": null,
   "metadata": {},
   "outputs": [],
   "source": [
    "# compare no-show rate between control group and treatment group,\n",
    "# filtered on called patients\n",
    "called_patients = combined_data[\n",
    "    combined_data[\"call_outcome\"].isin([\"Herinnerd\", \"Verzet/Geannuleerd\"])\n",
    "    | (combined_data[\"treatment_group\"] == 0)\n",
    "]\n",
    "no_show_rate_called = called_patients.groupby(\"treatment_group\")[\"no_show\"].agg(\n",
    "    [\"mean\", \"size\"]\n",
    ")\n",
    "no_show_rate_called"
   ]
  },
  {
   "cell_type": "code",
   "execution_count": null,
   "metadata": {},
   "outputs": [],
   "source": [
    "# Calculate the no_show rate for each prediction score bin and treatment group\n",
    "combined_data.loc[:, \"score_bin\"] = pd.qcut(combined_data[\"prediction\"], 10)\n",
    "no_show_rate = combined_data.groupby([\"treatment_group\", \"score_bin\"], observed=True)[\n",
    "    \"no_show\"\n",
    "].mean()\n",
    "\n",
    "no_show_rate.unstack(level=\"treatment_group\").plot.bar()"
   ]
  }
 ],
 "metadata": {
  "kernelspec": {
   "display_name": ".venv",
   "language": "python",
   "name": "python3"
  },
  "language_info": {
   "codemirror_mode": {
    "name": "ipython",
    "version": 3
   },
   "file_extension": ".py",
   "mimetype": "text/x-python",
   "name": "python",
   "nbconvert_exporter": "python",
   "pygments_lexer": "ipython3",
   "version": "3.11.10"
  }
 },
 "nbformat": 4,
 "nbformat_minor": 2
}
