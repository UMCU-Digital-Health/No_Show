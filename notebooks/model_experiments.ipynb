{
 "cells": [
  {
   "attachments": {},
   "cell_type": "markdown",
   "metadata": {},
   "source": [
    "# First model experiments"
   ]
  },
  {
   "cell_type": "code",
   "execution_count": null,
   "metadata": {},
   "outputs": [],
   "source": [
    "import pandas as pd\n",
    "import numpy as np\n",
    "from sklearn.compose import ColumnTransformer\n",
    "from sklearn.ensemble import RandomForestClassifier\n",
    "from sklearn.model_selection import train_test_split\n",
    "from imblearn.pipeline import Pipeline\n",
    "from sklearn.preprocessing import OneHotEncoder\n",
    "from sklearn.metrics import roc_auc_score, precision_score, recall_score, roc_curve\n",
    "import matplotlib.pyplot as plt\n",
    "\n",
    "from imblearn.over_sampling import SMOTE"
   ]
  },
  {
   "cell_type": "code",
   "execution_count": null,
   "metadata": {},
   "outputs": [],
   "source": [
    "featuretable = pd.read_parquet(\n",
    "    \"/mapr/no_show/no_show_onderzoeker/rpeters7/No_Show/data/processed/featuretable.parquet\"\n",
    ")\n",
    "featuretable.dtypes"
   ]
  },
  {
   "cell_type": "code",
   "execution_count": null,
   "metadata": {},
   "outputs": [],
   "source": [
    "X, y = featuretable.drop(columns=\"no_show\"), featuretable[\"no_show\"]\n",
    "\n",
    "X_train, X_test, y_train, y_test = train_test_split(\n",
    "    X, y, test_size=0.2, random_state=0, shuffle=False\n",
    ")\n",
    "\n",
    "oversampler = SMOTE()\n",
    "\n",
    "# Define the categorical columns in your feature matrix\n",
    "categorical_cols = [col for col in X.columns if X[col].dtype == \"object\"]\n",
    "num_cols = [col for col in X.columns if X[col].dtype != \"object\"]\n",
    "\n",
    "# Define the preprocessor pipeline for the categorical columns\n",
    "preprocessor = ColumnTransformer(\n",
    "    transformers=[\n",
    "        (\"num\", \"passthrough\", num_cols),\n",
    "        (\"cat\", OneHotEncoder(handle_unknown=\"ignore\"), categorical_cols),\n",
    "    ]\n",
    ")\n",
    "\n",
    "# Define the final pipeline with preprocessor and random forest classifier\n",
    "pipeline = Pipeline(\n",
    "    steps=[\n",
    "        (\"preprocessor\", preprocessor),\n",
    "        (\"smotesampling\", oversampler),\n",
    "        (\"classifier\", RandomForestClassifier()),\n",
    "    ]\n",
    ")\n",
    "\n",
    "# Train the pipeline on the training data\n",
    "pipeline.fit(X_train, y_train)"
   ]
  },
  {
   "cell_type": "code",
   "execution_count": null,
   "metadata": {},
   "outputs": [],
   "source": [
    "# Test the performance on the test data\n",
    "y_pred = pipeline.predict_proba(X_test)\n",
    "\n",
    "auc_score = roc_auc_score(y_test, y_pred[:, 1])\n",
    "auc_score\n"
   ]
  },
  {
   "cell_type": "code",
   "execution_count": null,
   "metadata": {},
   "outputs": [],
   "source": [
    "y_pred_cat = np.zeros(len(y_pred), object)\n",
    "y_pred_cat[y_pred[:, 0] > 0.5] = \"no_show\"\n",
    "y_pred_cat[y_pred[:, 0] <= 0.5] = \"show\"\n",
    "y_pred_cat"
   ]
  },
  {
   "cell_type": "code",
   "execution_count": null,
   "metadata": {},
   "outputs": [],
   "source": [
    "precision_score(y_test, y_pred_cat, pos_label=\"no_show\")"
   ]
  },
  {
   "cell_type": "code",
   "execution_count": null,
   "metadata": {},
   "outputs": [],
   "source": [
    "recall_score(y_test, y_pred_cat, pos_label=\"no_show\")"
   ]
  },
  {
   "cell_type": "code",
   "execution_count": null,
   "metadata": {},
   "outputs": [],
   "source": [
    "fpr, tpr, thresholds = roc_curve(y_test, y_pred[:, 0], pos_label=\"no_show\")\n",
    "plt.plot(fpr, tpr, label=f\"Random Forest (AUC={round(auc_score, 2)})\")\n",
    "plt.plot([0, 1], [0, 1], label=\"Random (AUC=0.5)\", linestyle=\"dotted\")\n",
    "plt.legend()\n",
    "plt.show()"
   ]
  },
  {
   "cell_type": "code",
   "execution_count": null,
   "metadata": {},
   "outputs": [],
   "source": [
    "forest_importances = pd.Series(\n",
    "    pipeline[-1].feature_importances_, index=pipeline[0].get_feature_names_out()\n",
    ").sort_values()\n",
    "\n",
    "fig, ax = plt.subplots()\n",
    "ax.barh(\n",
    "    forest_importances.index,\n",
    "    forest_importances,\n",
    ")\n",
    "ax.set_title(\"Feature importances using MDI\")\n",
    "ax.set_ylabel(\"Mean decrease in impurity\")\n",
    "fig.tight_layout()\n",
    "plt.show()"
   ]
  }
 ],
 "metadata": {
  "kernelspec": {
   "display_name": "no_show_ruben",
   "language": "python",
   "name": "no_show_ruben"
  },
  "language_info": {
   "codemirror_mode": {
    "name": "ipython",
    "version": 3
   },
   "file_extension": ".py",
   "mimetype": "text/x-python",
   "name": "python",
   "nbconvert_exporter": "python",
   "pygments_lexer": "ipython3",
   "version": "3.8.12"
  },
  "orig_nbformat": 4
 },
 "nbformat": 4,
 "nbformat_minor": 2
}
