{
 "cells": [
  {
   "cell_type": "markdown",
   "metadata": {},
   "source": [
    "# Notebook to analyse the results from the implementation of the No-Show project\n",
    "\n",
    "Mainly focussed on the stored information in the database"
   ]
  },
  {
   "cell_type": "code",
   "execution_count": null,
   "metadata": {},
   "outputs": [],
   "source": [
    "import json\n",
    "import os\n",
    "\n",
    "import matplotlib as mpl\n",
    "import matplotlib.pyplot as plt\n",
    "import pandas as pd\n",
    "from dotenv import load_dotenv\n",
    "from sqlalchemy import create_engine\n",
    "from sqlalchemy.orm import sessionmaker\n",
    "\n",
    "from noshow.api.app_helpers import apply_bins"
   ]
  },
  {
   "cell_type": "code",
   "execution_count": null,
   "metadata": {},
   "outputs": [],
   "source": [
    "mpl.rcdefaults()\n",
    "\n",
    "# remove top and right splines\n",
    "mpl.rcParams[\"axes.spines.top\"] = False\n",
    "mpl.rcParams[\"axes.spines.right\"] = False\n",
    "mpl.rcParams[\"axes.axisbelow\"] = True"
   ]
  },
  {
   "cell_type": "markdown",
   "metadata": {},
   "source": [
    "## Connect to Database"
   ]
  },
  {
   "cell_type": "code",
   "execution_count": null,
   "metadata": {},
   "outputs": [],
   "source": [
    "load_dotenv(\"../.env\")\n",
    "\n",
    "\n",
    "# Global and env variables\n",
    "db_user = os.environ[\"DB_USER\"]\n",
    "db_passwd = os.environ[\"DB_PASSWD\"]\n",
    "db_host = os.environ[\"DB_HOST\"]\n",
    "db_port = os.environ[\"DB_PORT\"]\n",
    "db_database = os.environ[\"DB_DATABASE\"]\n",
    "\n",
    "PERIOD_START = \"2024-06-20\"\n",
    "PERIOD_END = \"2024-07-08\""
   ]
  },
  {
   "cell_type": "code",
   "execution_count": null,
   "metadata": {},
   "outputs": [],
   "source": [
    "CONNECTSTRING = (\n",
    "    rf\"mssql+pymssql://{db_user}:{db_passwd}@{db_host}:{db_port}/{db_database}\"\n",
    ")\n",
    "engine = create_engine(CONNECTSTRING)\n",
    "session_object = sessionmaker(bind=engine)"
   ]
  },
  {
   "cell_type": "code",
   "execution_count": null,
   "metadata": {},
   "outputs": [],
   "source": [
    "call_response = pd.read_sql_table(\"apicallresponse\", engine, schema=\"noshow\")\n",
    "prediction = pd.read_sql_table(\"apiprediction\", engine, schema=\"noshow\")\n",
    "requests = pd.read_sql_table(\"apirequest\", engine, schema=\"noshow\")\n",
    "patients = pd.read_sql_table(\"apipatient\", engine, schema=\"noshow\")"
   ]
  },
  {
   "cell_type": "markdown",
   "metadata": {},
   "source": [
    "## Preprocess data"
   ]
  },
  {
   "cell_type": "code",
   "execution_count": null,
   "metadata": {},
   "outputs": [],
   "source": [
    "prediction_call = (\n",
    "    prediction.set_index(\"id\")\n",
    "    .join(call_response.set_index(\"prediction_id\"))\n",
    "    .set_index(\"patient_id\")\n",
    "    .join(patients.set_index(\"id\"))\n",
    ")\n",
    "\n",
    "prediction_call = prediction_call.loc[prediction_call[\"start_time\"] >= PERIOD_START]\n",
    "prediction_call = prediction_call.loc[prediction_call[\"start_time\"] < PERIOD_END]\n",
    "\n",
    "prediction_call[\"start_time\"] = prediction_call[\"start_time\"].dt.date\n",
    "result_per_day = prediction_call.groupby(\n",
    "    [\"start_time\", \"clinic_name\", \"call_outcome\"]\n",
    ").size()"
   ]
  },
  {
   "cell_type": "markdown",
   "metadata": {},
   "source": [
    "## Analyze data"
   ]
  },
  {
   "cell_type": "code",
   "execution_count": null,
   "metadata": {},
   "outputs": [],
   "source": [
    "fig, ax = plt.subplots(figsize=(10, 5))\n",
    "prediction_call.loc[prediction_call[\"treatment_group\"] == 1].groupby(\n",
    "    [\"clinic_name\", \"call_outcome\"], dropna=False\n",
    ").size().unstack().plot.bar(stacked=True, ax=ax)\n",
    "ax.grid(axis=\"y\")\n",
    "fig.suptitle(\"Uitkomst van bellen huidige status per kliniek\")\n",
    "fig.show()"
   ]
  },
  {
   "cell_type": "code",
   "execution_count": null,
   "metadata": {},
   "outputs": [],
   "source": [
    "fig, ax = plt.subplots(figsize=(10, 5))\n",
    "prediction_call.groupby(\n",
    "    [\"treatment_group\", \"call_outcome\"], dropna=False\n",
    ").size().unstack().plot.bar(stacked=True, ax=ax)\n",
    "ax.grid(axis=\"y\")\n",
    "fig.suptitle(\"Vergelijking control en treatment groep\")\n",
    "fig.show()"
   ]
  },
  {
   "cell_type": "code",
   "execution_count": null,
   "metadata": {},
   "outputs": [],
   "source": [
    "with open(\"../data/processed/fixed_pred_score_bin.json\", \"r\") as f:\n",
    "    fixed_pred_score_bin = json.load(f)\n",
    "\n",
    "predictions_with_bins = (\n",
    "    prediction_call.groupby(\"clinic_name\")\n",
    "    .apply(apply_bins, bin_dict=fixed_pred_score_bin, include_groups=False)\n",
    "    .reset_index()\n",
    ")\n",
    "\n",
    "fix, ax = plt.subplots(figsize=(10, 5))\n",
    "predictions_with_bins.groupby(\n",
    "    [\"treatment_group\", \"score_bin\"]\n",
    ").size().unstack().plot.bar(stacked=True, ax=ax)\n",
    "ax.set_title(\"Vergelijking control en treatment groep per score bin\")\n",
    "ax.grid(axis=\"y\")\n",
    "fig.show()"
   ]
  },
  {
   "cell_type": "code",
   "execution_count": null,
   "metadata": {},
   "outputs": [],
   "source": [
    "fig, ax = plt.subplots(figsize=(10, 5))\n",
    "predictions_with_bins.loc[predictions_with_bins[\"treatment_group\"] == 1].groupby(\n",
    "    [\"score_bin\", \"call_outcome\"], dropna=False\n",
    ").size().unstack().plot.bar(stacked=True, ax=ax)\n",
    "ax.set_title(\"Uitkomst van bellen huidige status per score bin\")\n",
    "ax.grid(axis=\"y\")\n",
    "fig.show()"
   ]
  },
  {
   "cell_type": "code",
   "execution_count": null,
   "metadata": {},
   "outputs": [],
   "source": [
    "plt.figure(figsize=(10, 5))\n",
    "result_per_day.groupby(\"call_outcome\").sum().plot.bar()\n",
    "plt.title(\"Uitkomst Implementatie\")\n",
    "plt.xlabel(\"\")\n",
    "plt.grid(axis=\"y\")\n",
    "plt.show()"
   ]
  },
  {
   "cell_type": "code",
   "execution_count": null,
   "metadata": {},
   "outputs": [],
   "source": [
    "rct_groups = prediction_call.groupby(\"treatment_group\")\n",
    "\n",
    "fig, ax = plt.subplots(2, figsize=(10, 7), sharex=True, sharey=True)\n",
    "for id, (group, data) in enumerate(rct_groups):\n",
    "    ax[id].hist(data[\"prediction\"], bins=50, alpha=0.5, label=f\"Group {group}\")\n",
    "    ax[id].set_title(f\"{'treatment' if group == 1 else 'control'} group\")\n",
    "    ax[id].grid(axis=\"y\")\n",
    "\n",
    "fig.suptitle(\"Histogram van voorspellingen per groep\")\n",
    "fig.set_layout_engine(\"tight\")\n",
    "fig.show()"
   ]
  },
  {
   "cell_type": "code",
   "execution_count": null,
   "metadata": {},
   "outputs": [],
   "source": [
    "prediction_call.groupby(\"clinic_name\").size()"
   ]
  },
  {
   "cell_type": "code",
   "execution_count": null,
   "metadata": {},
   "outputs": [],
   "source": [
    "prediction_call.groupby([\"clinic_name\", \"call_outcome\"]).size()"
   ]
  },
  {
   "cell_type": "code",
   "execution_count": null,
   "metadata": {},
   "outputs": [],
   "source": [
    "prediction_call.value_counts(\"call_status\")"
   ]
  },
  {
   "cell_type": "code",
   "execution_count": null,
   "metadata": {},
   "outputs": [],
   "source": [
    "prediction_call[\"remarks\"].drop_duplicates().values"
   ]
  },
  {
   "cell_type": "code",
   "execution_count": null,
   "metadata": {},
   "outputs": [],
   "source": [
    "prediction_call_request = prediction_call.set_index(\"request_id\").join(\n",
    "    requests.set_index(\"id\")\n",
    ")\n",
    "\n",
    "prediction_call_request"
   ]
  },
  {
   "cell_type": "code",
   "execution_count": null,
   "metadata": {},
   "outputs": [],
   "source": [
    "prediction_call_request[\"day_called\"] = prediction_call_request[\"timestamp\"].dt.date\n",
    "prediction_call_request.groupby(\"day_called\").size()"
   ]
  },
  {
   "cell_type": "markdown",
   "metadata": {},
   "source": [
    "## Analyse text"
   ]
  },
  {
   "cell_type": "code",
   "execution_count": null,
   "metadata": {},
   "outputs": [],
   "source": [
    "text_contents = prediction_call[\"remarks\"].drop_duplicates().dropna().to_list()\n",
    "text_contents = [val for val in text_contents if \"oicemail\" not in val]\n",
    "text_contents = [val for val in text_contents if \"oorverbin\" not in val]\n",
    "text_contents = [val for val in text_contents if \"eschikbaar\" not in val]\n",
    "text_contents"
   ]
  },
  {
   "cell_type": "markdown",
   "metadata": {},
   "source": [
    "## Analyse when to call"
   ]
  },
  {
   "cell_type": "code",
   "execution_count": null,
   "metadata": {},
   "outputs": [],
   "source": [
    "# Group by hour of timestamp and calculate percentage and number of different outcomes\n",
    "call_response[\"hour_called\"] = call_response[\"timestamp\"].dt.hour\n",
    "hourly_outcome = call_response.groupby([\"hour_called\", \"call_outcome\"]).size()\n",
    "hourly_outcome = hourly_outcome.unstack()\n",
    "\n",
    "fig, ax = plt.subplots(figsize=(10, 5))\n",
    "hourly_outcome.plot.bar(stacked=True, ax=ax)\n",
    "ax.set_title(\"Uitkomst van bellen huidige status per uur\")\n",
    "ax.set_ylabel(\"Aantal\")\n",
    "ax.set_xlabel(\"Uur\")\n",
    "ax.legend(title=\"Uitkomst\")\n",
    "fig.show()\n",
    "\n",
    "# Also plot the percentages with bars of equal height\n",
    "fig, ax = plt.subplots(figsize=(10, 5))\n",
    "hourly_outcome.div(hourly_outcome.sum(axis=1), axis=0).plot.bar(stacked=True, ax=ax)\n",
    "ax.set_title(\"Percentage uitkomst van bellen huidige status per uur\")\n",
    "ax.set_ylabel(\"Percentage\")\n",
    "ax.set_xlabel(\"Uur\")\n",
    "ax.legend(title=\"Uitkomst\")\n",
    "fig.show()"
   ]
  }
 ],
 "metadata": {
  "kernelspec": {
   "display_name": ".venv",
   "language": "python",
   "name": "python3"
  },
  "language_info": {
   "codemirror_mode": {
    "name": "ipython",
    "version": 3
   },
   "file_extension": ".py",
   "mimetype": "text/x-python",
   "name": "python",
   "nbconvert_exporter": "python",
   "pygments_lexer": "ipython3",
   "version": "3.11.10"
  }
 },
 "nbformat": 4,
 "nbformat_minor": 2
}
