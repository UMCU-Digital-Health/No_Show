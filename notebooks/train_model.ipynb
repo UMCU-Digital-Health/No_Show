{
 "cells": [
  {
   "cell_type": "code",
   "execution_count": null,
   "metadata": {},
   "outputs": [],
   "source": [
    "%load_ext autoreload\n",
    "%autoreload 2"
   ]
  },
  {
   "cell_type": "code",
   "execution_count": null,
   "metadata": {},
   "outputs": [],
   "source": [
    "import json\n",
    "\n",
    "import matplotlib.pyplot as plt\n",
    "import numpy as np\n",
    "import pandas as pd\n",
    "from sklearn.ensemble import HistGradientBoostingClassifier\n",
    "from sklearn.metrics import (\n",
    "    precision_recall_curve,\n",
    "    roc_auc_score,\n",
    "    roc_curve,\n",
    ")\n",
    "from sklearn.model_selection import (\n",
    "    train_test_split,\n",
    ")\n",
    "\n",
    "from noshow.features.feature_pipeline import create_features\n",
    "from noshow.preprocessing.load_data import (\n",
    "    load_appointment_csv,\n",
    "    process_appointments,\n",
    "    process_postal_codes,\n",
    ")"
   ]
  },
  {
   "cell_type": "code",
   "execution_count": null,
   "metadata": {},
   "outputs": [],
   "source": [
    "appointments_df = load_appointment_csv(\"../data/raw/poliafspraken_no_show.csv\")\n",
    "appointments_df = process_appointments(appointments_df)\n",
    "all_postalcodes = process_postal_codes(\"../data/raw/NL.txt\")\n",
    "featuretable = create_features(\n",
    "    appointments_df,\n",
    "    all_postalcodes,\n",
    ")\n",
    "\n",
    "featuretable = (\n",
    "    featuretable[\n",
    "        [\n",
    "            \"hoofdagenda\",\n",
    "            \"hour\",\n",
    "            \"weekday\",\n",
    "            \"minutesDuration\",\n",
    "            \"no_show\",\n",
    "            \"prev_no_show\",\n",
    "            \"prev_no_show_perc\",\n",
    "            \"age\",\n",
    "            \"dist_umcu\",\n",
    "            \"prev_minutes_early\",\n",
    "            \"earlier_appointments\",\n",
    "            \"appointments_same_day\",\n",
    "            \"appointments_last_days\",\n",
    "            \"days_since_created\",\n",
    "            \"days_since_last_appointment\",\n",
    "        ]\n",
    "    ]\n",
    "    .reset_index()\n",
    "    .set_index([\"pseudo_id\", \"start\", \"hoofdagenda\"])\n",
    ")"
   ]
  },
  {
   "cell_type": "code",
   "execution_count": null,
   "metadata": {},
   "outputs": [],
   "source": [
    "featuretable[\"no_show\"] = (\n",
    "    featuretable[\"no_show\"].replace({\"no_show\": \"1\", \"show\": \"0\"}).astype(int)\n",
    ")\n",
    "featuretable[\"hour\"] = featuretable[\"hour\"].astype(\"category\")\n",
    "featuretable[\"weekday\"] = featuretable[\"weekday\"].astype(\"category\")\n",
    "\n",
    "print(featuretable.dtypes)\n",
    "X, y = featuretable.drop(columns=\"no_show\"), featuretable[\"no_show\"]\n",
    "X_train, X_test, y_train, y_test = train_test_split(X, y, test_size=0.2, random_state=0)"
   ]
  },
  {
   "cell_type": "code",
   "execution_count": null,
   "metadata": {},
   "outputs": [],
   "source": [
    "lgboost_model = HistGradientBoostingClassifier(\n",
    "    learning_rate=0.05,\n",
    "    max_iter=300,\n",
    "    categorical_features=[\"hour\", \"weekday\"],\n",
    "    random_state=42,\n",
    ")"
   ]
  },
  {
   "cell_type": "code",
   "execution_count": null,
   "metadata": {},
   "outputs": [],
   "source": [
    "fitted_model = lgboost_model.fit(X_train, y_train)\n",
    "preds = fitted_model.predict_proba(X_test)"
   ]
  },
  {
   "cell_type": "markdown",
   "metadata": {},
   "source": [
    "## ROC curve"
   ]
  },
  {
   "cell_type": "code",
   "execution_count": null,
   "metadata": {},
   "outputs": [],
   "source": [
    "y_pred = fitted_model.predict_proba(X_test)\n",
    "fpr, tpr, thresholds = roc_curve(y_test, y_pred[:, 1])\n",
    "auc_score = roc_auc_score(y_test, y_pred[:, 1])\n",
    "fig, ax = plt.subplots(figsize=(8, 8))\n",
    "ax.plot(fpr, tpr, label=f\"Hist Gradient Boosting (AUC={round(auc_score, 2)})\")\n",
    "ax.plot([0, 1], [0, 1], label=\"Random (AUC=0.5)\", linestyle=\"dotted\")\n",
    "ax.legend()\n",
    "plt.show()"
   ]
  },
  {
   "cell_type": "markdown",
   "metadata": {},
   "source": [
    "## Prediction, recall"
   ]
  },
  {
   "cell_type": "code",
   "execution_count": null,
   "metadata": {},
   "outputs": [],
   "source": [
    "precision, recall, thresholds = precision_recall_curve(y_test, y_pred[:, 1])\n",
    "\n",
    "fig, ax = plt.subplots(figsize=(8, 8))\n",
    "ax.plot(thresholds, precision[:-1], label=\"precision\")\n",
    "ax.plot(thresholds, recall[:-1], label=\"recall\")\n",
    "ax.legend()\n",
    "plt.show()"
   ]
  },
  {
   "cell_type": "markdown",
   "metadata": {},
   "source": [
    "## Create fixed bins"
   ]
  },
  {
   "cell_type": "code",
   "execution_count": null,
   "metadata": {},
   "outputs": [],
   "source": [
    "prediction_df = pd.DataFrame(y_pred[:, 1], index=X_test.index, columns=[\"prediction\"])\n",
    "prediction_df = prediction_df.reset_index()"
   ]
  },
  {
   "cell_type": "code",
   "execution_count": null,
   "metadata": {},
   "outputs": [],
   "source": [
    "# Calculate quantiles\n",
    "n_bins = 4\n",
    "quantiles = np.linspace(0, 1, n_bins + 1)\n",
    "# determine quantiles for every hoofdagenda group in preditcions_df\n",
    "bin_edges = (\n",
    "    prediction_df.sort_values(\"prediction\", ascending=False)\n",
    "    .drop_duplicates(subset=\"pseudo_id\", keep=\"first\")\n",
    "    .groupby(\"hoofdagenda\")[\"prediction\"]\n",
    "    .quantile(quantiles)\n",
    "    .reset_index()\n",
    ")\n",
    "\n",
    "bin_edges = pd.pivot_table(\n",
    "    bin_edges, values=\"prediction\", index=\"hoofdagenda\", columns=\"level_1\"\n",
    ")\n",
    "# create a dict where hoodagendas are keys and bin_edges for the quantiles are values\n",
    "bin_edges = bin_edges.to_dict(orient=\"index\")\n",
    "\n",
    "# save to json\n",
    "with open(\"../data/processed/fixed_pred_score_bin.json\", \"w\") as f:\n",
    "    json.dump(bin_edges, f)\n",
    "print(bin_edges)"
   ]
  }
 ],
 "metadata": {
  "kernelspec": {
   "display_name": "no_show_eric",
   "language": "python",
   "name": "python3"
  },
  "language_info": {
   "codemirror_mode": {
    "name": "ipython",
    "version": 3
   },
   "file_extension": ".py",
   "mimetype": "text/x-python",
   "name": "python",
   "nbconvert_exporter": "python",
   "pygments_lexer": "ipython3",
   "version": "3.11.7"
  }
 },
 "nbformat": 4,
 "nbformat_minor": 2
}
