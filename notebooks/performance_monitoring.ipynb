{
 "cells": [
  {
   "cell_type": "markdown",
   "id": "0",
   "metadata": {},
   "source": [
    "### Install dependencies"
   ]
  },
  {
   "cell_type": "code",
   "execution_count": null,
   "id": "1",
   "metadata": {},
   "outputs": [],
   "source": [
    "import pickle\n",
    "from datetime import date, timedelta\n",
    "\n",
    "import matplotlib.pyplot as plt\n",
    "import numpy as np\n",
    "import pandas as pd\n",
    "import relplot as rp\n",
    "from sklearn.calibration import calibration_curve\n",
    "from sklearn.metrics import (\n",
    "    precision_recall_curve,\n",
    "    precision_score,\n",
    "    recall_score,\n",
    "    roc_auc_score,\n",
    "    roc_curve,\n",
    ")\n",
    "from sklearn.model_selection import train_test_split\n",
    "from sqlalchemy import Date, cast, select\n",
    "\n",
    "from noshow.config import CLINIC_CONFIG\n",
    "from noshow.dashboard.connection import init_session\n",
    "from noshow.database.export import export_data\n",
    "from noshow.database.models import ApiCallResponse, ApiPatient, ApiPrediction\n",
    "from noshow.features.feature_pipeline import create_features, select_feature_columns\n",
    "from noshow.preprocessing.load_data import (\n",
    "    load_appointment_csv,\n",
    "    process_appointments,\n",
    "    process_postal_codes,\n",
    ")"
   ]
  },
  {
   "cell_type": "markdown",
   "id": "2",
   "metadata": {},
   "source": [
    "### Extract patients who are not called\n",
    "Extract from ApiPrediction and ApiCallResponse. Filter patients who had an appointment prediction last year, but were not called."
   ]
  },
  {
   "cell_type": "code",
   "execution_count": null,
   "id": "3",
   "metadata": {},
   "outputs": [],
   "source": [
    "session_object = init_session()\n",
    "\n",
    "with session_object() as session:\n",
    "    predicted_patients = session.execute(\n",
    "        select(\n",
    "            ApiPrediction.start_time,\n",
    "            ApiPrediction.prediction,\n",
    "            ApiPrediction.id,\n",
    "            ApiPrediction.patient_id,\n",
    "            ApiPrediction.appointment_id,\n",
    "            ApiCallResponse.call_status,\n",
    "        )\n",
    "        .outerjoin(ApiPrediction.callresponse_relation)\n",
    "        .outerjoin(ApiPrediction.patient_relation)\n",
    "        # .where(ApiCallResponse.call_outcome is Missing value or 'niet gebeld')\n",
    "        .where(\n",
    "            (ApiCallResponse.call_status.is_(None))\n",
    "            | (ApiCallResponse.call_status == \"Niet gebeld\")\n",
    "        )\n",
    "        .where(\n",
    "            cast(ApiPrediction.start_time, Date) >= date.today() - timedelta(days=365)\n",
    "        )\n",
    "    ).all()"
   ]
  },
  {
   "cell_type": "code",
   "execution_count": null,
   "id": "4",
   "metadata": {},
   "outputs": [],
   "source": [
    "# Show results of predicted_patients in a dataframe\n",
    "df = pd.DataFrame(\n",
    "    predicted_patients,\n",
    "    columns=[\n",
    "        \"start_time\",\n",
    "        \"prediction\",\n",
    "        \"id\",\n",
    "        \"patient_id\",\n",
    "        \"appointment_id\",\n",
    "        \"call_status\",\n",
    "    ],\n",
    ")\n",
    "df.head(100)"
   ]
  },
  {
   "cell_type": "markdown",
   "id": "5",
   "metadata": {},
   "source": [
    "### Load SQL data"
   ]
  },
  {
   "cell_type": "code",
   "execution_count": null,
   "id": "6",
   "metadata": {},
   "outputs": [],
   "source": [
    "# Make new export and save to poliafspraken_no_show.csv\n",
    "# export_data()"
   ]
  },
  {
   "cell_type": "code",
   "execution_count": null,
   "id": "7",
   "metadata": {},
   "outputs": [],
   "source": [
    "# Load appointments from CSV and process them\n",
    "appointments_df = load_appointment_csv(\"../data/raw/poliafspraken_no_show.csv\")\n",
    "appointments_df = process_appointments(appointments_df, CLINIC_CONFIG)\n",
    "\n",
    "appointments_df.head(100)"
   ]
  },
  {
   "cell_type": "code",
   "execution_count": null,
   "id": "8",
   "metadata": {},
   "outputs": [],
   "source": [
    "# only show appointments with a start time between now and 1 year ago\n",
    "appointments_df = appointments_df[\n",
    "    appointments_df[\"end\"].between(\n",
    "        (date.today() - timedelta(days=365)).strftime(\"%Y-%m-%d\"),\n",
    "        date.today().strftime(\"%Y-%m-%d\"),\n",
    "    )\n",
    "]\n",
    "\n",
    "df[\"appointment_id\"] = df[\"appointment_id\"].astype(str)\n",
    "appointments_df[\"APP_ID\"] = appointments_df[\"APP_ID\"].astype(str)\n",
    "\n",
    "appointments_df = appointments_df[appointments_df[\"APP_ID\"].isin(df[\"appointment_id\"])]\n",
    "\n",
    "appointments_df.head(100)"
   ]
  },
  {
   "cell_type": "code",
   "execution_count": null,
   "id": "9",
   "metadata": {},
   "outputs": [],
   "source": [
    "appointments_df[\"end\"] = pd.to_datetime(appointments_df[\"end\"])\n",
    "appointments_df[\"year_month\"] = appointments_df[\"end\"].dt.to_period(\"M\")\n",
    "grouped = appointments_df.groupby(\"year_month\")\n",
    "\n",
    "for period, df_month in grouped:\n",
    "    df_month = df_month.reset_index(drop=True)\n",
    "\n",
    "    # Apply your custom feature function\n",
    "    all_postalcodes = process_postal_codes(\"../data/raw/NL.txt\")\n",
    "    appointments_features = create_features(df_month, all_postalcodes).pipe(\n",
    "        select_feature_columns\n",
    "    )\n",
    "\n",
    "    # Define filename using the period (e.g., '2025-04')\n",
    "    filename = f\"appointments_features_{period}.parquet\"\n",
    "\n",
    "    # Save to Parquet\n",
    "    # appointments_features.to_parquet(filename, index=False)\n",
    "\n",
    "    print(f\"Saved: {filename}\")\n"
   ]
  },
  {
   "cell_type": "code",
   "execution_count": null,
   "id": "10",
   "metadata": {},
   "outputs": [],
   "source": [
    "all_postalcodes = process_postal_codes(\"../data/raw/NL.txt\")\n",
    "appointments_features = create_features(appointments_df, all_postalcodes).pipe(\n",
    "    select_feature_columns\n",
    ")\n",
    "appointments_features.to_parquet(\"../data/processed/featuretable_monitoring.parquet\")"
   ]
  },
  {
   "cell_type": "code",
   "execution_count": null,
   "id": "11",
   "metadata": {},
   "outputs": [],
   "source": [
    "type(appointments_df)\n"
   ]
  },
  {
   "cell_type": "code",
   "execution_count": null,
   "id": "12",
   "metadata": {},
   "outputs": [],
   "source": [
    "with open(\"../output/models/no_show_model_cv.pickle\", \"rb\") as f:\n",
    "    model = pickle.load(f)\n",
    "\n",
    "featuretable = pd.read_parquet(\"../data/processed/featuretable_monitoring.parquet\")\n",
    "\n",
    "featuretable.head(100)"
   ]
  },
  {
   "cell_type": "code",
   "execution_count": null,
   "id": "13",
   "metadata": {},
   "outputs": [],
   "source": [
    "featuretable[\"no_show\"] = (\n",
    "    featuretable[\"no_show\"].replace({\"no_show\": \"1\", \"show\": \"0\"}).astype(int)\n",
    ")\n",
    "\n",
    "X, y = featuretable.drop(columns=\"no_show\"), featuretable[\"no_show\"]\n",
    "\n",
    "X_train, X_test, y_train, y_test = train_test_split(\n",
    "    X, y, test_size=0.2, random_state=0, shuffle=False\n",
    ")\n",
    "\n",
    "y_pred = model.predict_proba(X_test)"
   ]
  },
  {
   "cell_type": "code",
   "execution_count": null,
   "id": "14",
   "metadata": {},
   "outputs": [],
   "source": [
    "fpr, tpr, thresholds = roc_curve(y_test, y_pred[:, 1])\n",
    "auc_score = roc_auc_score(y_test, y_pred[:, 1])\n",
    "fig, ax = plt.subplots(figsize=(8, 8))\n",
    "ax.plot(fpr, tpr, label=f\"Hist Gradient Boosting (AUC={round(auc_score, 2)})\")\n",
    "ax.plot([0, 1], [0, 1], label=\"Random (AUC=0.5)\", linestyle=\"dotted\")\n",
    "ax.legend()\n",
    "plt.show()"
   ]
  },
  {
   "cell_type": "code",
   "execution_count": null,
   "id": "15",
   "metadata": {},
   "outputs": [],
   "source": [
    "precision, recall, thresholds = precision_recall_curve(y_test, y_pred[:, 1])\n",
    "\n",
    "fig, ax = plt.subplots(figsize=(8, 8))\n",
    "ax.plot(thresholds, precision[:-1], label=\"precision\")\n",
    "ax.plot(thresholds, recall[:-1], label=\"recall\")\n",
    "ax.legend()\n",
    "plt.show()"
   ]
  },
  {
   "cell_type": "markdown",
   "id": "16",
   "metadata": {},
   "source": [
    "calculate for each month and plot auc values trend in curve. "
   ]
  }
 ],
 "metadata": {
  "kernelspec": {
   "display_name": "noshow",
   "language": "python",
   "name": "python3"
  },
  "language_info": {
   "codemirror_mode": {
    "name": "ipython",
    "version": 3
   },
   "file_extension": ".py",
   "mimetype": "text/x-python",
   "name": "python",
   "nbconvert_exporter": "python",
   "pygments_lexer": "ipython3",
   "version": "3.13.1"
  }
 },
 "nbformat": 4,
 "nbformat_minor": 5
}
