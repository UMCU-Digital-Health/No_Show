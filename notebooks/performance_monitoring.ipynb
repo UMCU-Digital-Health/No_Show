{
 "cells": [
  {
   "cell_type": "markdown",
   "id": "0",
   "metadata": {},
   "source": [
    "# Performance monitoring\n",
    "This notebook can be used to monitor the performance of the No-Show model over time. Performance is calculated over the patient group whom were not called, but did have a prediction. "
   ]
  },
  {
   "cell_type": "markdown",
   "id": "1",
   "metadata": {},
   "source": [
    "### Install dependencies"
   ]
  },
  {
   "cell_type": "code",
   "execution_count": null,
   "id": "2",
   "metadata": {},
   "outputs": [],
   "source": [
    "import pickle\n",
    "\n",
    "import matplotlib.pyplot as plt\n",
    "import pandas as pd\n",
    "import relplot as rp\n",
    "import seaborn as sns\n",
    "from sklearn.metrics import (\n",
    "    roc_auc_score,\n",
    "    roc_curve,\n",
    ")\n",
    "from sklearn.model_selection import train_test_split\n",
    "from sqlalchemy import select\n",
    "\n",
    "from noshow.config import CLINIC_CONFIG\n",
    "from noshow.dashboard.connection import init_session\n",
    "from noshow.database.models import ApiCallResponse, ApiPrediction\n",
    "from noshow.features.feature_pipeline import create_features, select_feature_columns\n",
    "from noshow.preprocessing.load_data import (\n",
    "    load_appointment_csv,\n",
    "    process_appointments,\n",
    "    process_postal_codes,\n",
    ")"
   ]
  },
  {
   "cell_type": "markdown",
   "id": "3",
   "metadata": {},
   "source": [
    "### *Reminder: change the .env file to select the production database*"
   ]
  },
  {
   "cell_type": "markdown",
   "id": "4",
   "metadata": {},
   "source": [
    "## Data exploration"
   ]
  },
  {
   "cell_type": "markdown",
   "id": "5",
   "metadata": {},
   "source": [
    "### Extract patients who are not called\n",
    "Extract from ApiPrediction and ApiCallResponse. Select patients who had an prediction for an appointment, but were not called."
   ]
  },
  {
   "cell_type": "code",
   "execution_count": null,
   "id": "6",
   "metadata": {},
   "outputs": [],
   "source": [
    "session_object = init_session()\n",
    "\n",
    "with session_object() as session:\n",
    "    predicted_patients = session.execute(\n",
    "        select(\n",
    "            ApiPrediction.start_time,\n",
    "            ApiPrediction.prediction,\n",
    "            ApiPrediction.id,\n",
    "            ApiPrediction.patient_id,\n",
    "            ApiPrediction.appointment_id,\n",
    "            ApiCallResponse.call_status,\n",
    "        )\n",
    "        .outerjoin(ApiPrediction.callresponse_relation)\n",
    "        .outerjoin(ApiPrediction.patient_relation)\n",
    "    ).all()\n",
    "\n",
    "df = pd.DataFrame(\n",
    "    predicted_patients,\n",
    "    columns=[\n",
    "        \"start_time\",\n",
    "        \"prediction\",\n",
    "        \"id\",\n",
    "        \"patient_id\",\n",
    "        \"appointment_id\",\n",
    "        \"call_status\",\n",
    "    ],\n",
    ")\n",
    "df.head()"
   ]
  },
  {
   "cell_type": "markdown",
   "id": "7",
   "metadata": {},
   "source": [
    "### Percentage and count of not-called patients"
   ]
  },
  {
   "cell_type": "code",
   "execution_count": null,
   "id": "8",
   "metadata": {},
   "outputs": [],
   "source": [
    "df[\"start_time\"] = pd.to_datetime(df[\"start_time\"])\n",
    "df[\"month\"] = df[\"start_time\"].dt.to_period(\"M\")\n",
    "all_months = pd.period_range(\n",
    "    start=df[\"month\"].min(), end=df[\"month\"].max() - 1, freq=\"M\"\n",
    ")\n",
    "df = df[df[\"month\"].isin(all_months)]\n",
    "\n",
    "monthly_total = df[\"month\"].value_counts().sort_index()\n",
    "monthly_missing = (\n",
    "    df[df[\"call_status\"].isna() | (df[\"call_status\"] == \"Niet gebeld\")][\"month\"]\n",
    "    .value_counts()\n",
    "    .sort_index()\n",
    ")\n",
    "monthly_percent = (\n",
    "    (monthly_missing / monthly_total * 100)\n",
    "    .reindex(all_months, fill_value=0)\n",
    "    .rename(\"percent_none_or_niet_gebeld\")\n",
    "    .reset_index()\n",
    "    .rename(columns={\"index\": \"month\"})\n",
    ")\n"
   ]
  },
  {
   "cell_type": "code",
   "execution_count": null,
   "id": "9",
   "metadata": {},
   "outputs": [],
   "source": [
    "monthly_percent[\"month_str\"] = monthly_percent[\"month\"].astype(str)\n",
    "monthly_missing = monthly_missing.reindex(all_months, fill_value=0)\n",
    "fig, (ax1, ax2) = plt.subplots(2, 1, figsize=(10, 8), sharex=True)\n",
    "\n",
    "ax1.bar(\n",
    "    monthly_percent[\"month_str\"],\n",
    "    monthly_percent[\"percent_none_or_niet_gebeld\"],\n",
    "    color=\"salmon\",\n",
    ")\n",
    "ax1.set_title(\"Percentage of not-called patients\", fontsize=12)\n",
    "ax1.set_ylabel(\"Percentage\", fontsize=10)\n",
    "ax1.grid(axis=\"y\", linestyle=\"--\", alpha=0.7)\n",
    "\n",
    "ax2.plot(monthly_percent[\"month_str\"], monthly_missing.values, color=\"gray\", marker=\"o\")\n",
    "ax2.set_title(\"Count of not-called patients\", fontsize=12)\n",
    "ax2.set_ylabel(\"Count\", fontsize=10)\n",
    "ax2.set_xlabel(\"Month\", fontsize=10)\n",
    "ax2.grid(axis=\"y\", linestyle=\"--\", alpha=0.7)\n",
    "plt.xticks(rotation=45)\n",
    "\n",
    "plt.tight_layout()\n",
    "plt.show()"
   ]
  },
  {
   "cell_type": "markdown",
   "id": "10",
   "metadata": {},
   "source": [
    "### Prediction distribution"
   ]
  },
  {
   "cell_type": "code",
   "execution_count": null,
   "id": "11",
   "metadata": {},
   "outputs": [],
   "source": [
    "df_not_called = df[\n",
    "    df[\"call_status\"].isnull() | (df[\"call_status\"] == \"Niet gebeld\")\n",
    "].copy()\n",
    "\n",
    "predictions = df_not_called.groupby(\"month\")[\"prediction\"].apply(list)\n",
    "sorted_months = sorted(predictions.index)\n",
    "recent_months = sorted_months[-12:]\n",
    "predictions = predictions.loc[recent_months]\n",
    "most_recent_month = recent_months[-1]\n",
    "\n",
    "plt.figure(figsize=(10, 5))\n",
    "palette = sns.color_palette(\"tab10\", n_colors=len(predictions) - 1)\n",
    "palette_iter = iter(palette)\n",
    "\n",
    "for month, preds in predictions.items():\n",
    "    if month == most_recent_month:\n",
    "        sns.kdeplot(\n",
    "            preds,\n",
    "            fill=True,\n",
    "            alpha=0.2,\n",
    "            bw_adjust=0.3,\n",
    "            color=\"black\",\n",
    "            label=str(month),\n",
    "            linewidth=2.5,\n",
    "        )\n",
    "    else:\n",
    "        sns.kdeplot(\n",
    "            preds,\n",
    "            fill=True,\n",
    "            alpha=0.05,\n",
    "            bw_adjust=0.3,\n",
    "            color=next(palette_iter),\n",
    "            label=str(month),\n",
    "            linewidth=1.5,\n",
    "        )\n",
    "\n",
    "plt.title(\"Prediction Distributions by Month (Last 12 Months)\", fontsize=12)\n",
    "plt.xlabel(\"Prediction Value\", fontsize=10)\n",
    "plt.ylabel(\"Density\", fontsize=10)\n",
    "plt.legend(title=\"Month\", fontsize=8)\n",
    "plt.grid(axis=\"y\", linestyle=\"--\", alpha=0.6)\n",
    "plt.tight_layout()\n",
    "plt.show()\n"
   ]
  },
  {
   "cell_type": "markdown",
   "id": "12",
   "metadata": {},
   "source": [
    "## Results performance monitoring"
   ]
  },
  {
   "cell_type": "markdown",
   "id": "13",
   "metadata": {},
   "source": [
    "### Load SQL data"
   ]
  },
  {
   "cell_type": "code",
   "execution_count": null,
   "id": "14",
   "metadata": {},
   "outputs": [],
   "source": [
    "# Make new export and save to poliafspraken_no_show.csv\n",
    "# export_data()"
   ]
  },
  {
   "cell_type": "code",
   "execution_count": null,
   "id": "15",
   "metadata": {},
   "outputs": [],
   "source": [
    "appointments_df = load_appointment_csv(\"../data/raw/poliafspraken_no_show.csv\")\n",
    "appointments_df = process_appointments(appointments_df, CLINIC_CONFIG)\n",
    "appointments_df.head()"
   ]
  },
  {
   "cell_type": "markdown",
   "id": "16",
   "metadata": {},
   "source": [
    "### ROC and AUC scores"
   ]
  },
  {
   "cell_type": "code",
   "execution_count": null,
   "id": "17",
   "metadata": {},
   "outputs": [],
   "source": [
    "predicted_patients = (\n",
    "    df_not_called.groupby(\"month\")[\"appointment_id\"]\n",
    "    .apply(list)\n",
    "    .reset_index(name=\"appointment_ids\")\n",
    ")\n",
    "\n",
    "all_postalcodes = process_postal_codes(\"../data/raw/NL.txt\")\n",
    "with open(\"../output/models/no_show_model_cv.pickle\", \"rb\") as f:\n",
    "    model = pickle.load(f)\n",
    "\n",
    "roc_data = []\n",
    "\n",
    "for month, appointment_ids in zip(\n",
    "    predicted_patients[\"month\"], predicted_patients[\"appointment_ids\"], strict=True\n",
    "):\n",
    "    if month <= pd.Period(\"2024-12\", freq=\"M\"):\n",
    "        continue\n",
    "\n",
    "    appointment_ids = [int(app_id) for app_id in appointment_ids]\n",
    "    filtered_df = appointments_df[\n",
    "        appointments_df[\"APP_ID\"].isin(appointment_ids)\n",
    "    ].copy()\n",
    "    print(f\"Processing month: {month}, Appointments: {len(filtered_df)}\")\n",
    "\n",
    "    if filtered_df.empty:\n",
    "        print(f\"No matching appointments found in data for month: {month}, skipping...\")\n",
    "        continue\n",
    "\n",
    "    appointments_features = create_features(filtered_df, all_postalcodes).pipe(\n",
    "        select_feature_columns\n",
    "    )\n",
    "\n",
    "    featuretable = appointments_features\n",
    "    featuretable[\"no_show\"] = (\n",
    "        featuretable[\"no_show\"].replace({\"no_show\": \"1\", \"show\": \"0\"}).astype(int)\n",
    "    )\n",
    "    X, y = featuretable.drop(columns=\"no_show\"), featuretable[\"no_show\"]\n",
    "\n",
    "    X_train, X_test, y_train, y_test = train_test_split(\n",
    "        X, y, test_size=0.2, random_state=0, shuffle=False\n",
    "    )\n",
    "\n",
    "    y_pred = model.predict_proba(X_test)\n",
    "    fpr, tpr, _ = roc_curve(y_test, y_pred[:, 1])\n",
    "    auc_score = roc_auc_score(y_test, y_pred[:, 1])\n",
    "\n",
    "    roc_data.append(\n",
    "        {\n",
    "            \"month\": month,\n",
    "            \"fpr\": fpr,\n",
    "            \"tpr\": tpr,\n",
    "            \"auc\": auc_score,\n",
    "            \"y_pred\": y_pred[:, 1],\n",
    "            \"y_true\": y_test,\n",
    "        }\n",
    "    )\n"
   ]
  },
  {
   "cell_type": "code",
   "execution_count": null,
   "id": "18",
   "metadata": {},
   "outputs": [],
   "source": [
    "fig, (ax1, ax2) = plt.subplots(1, 2, figsize=(14, 6))\n",
    "\n",
    "for entry in roc_data:\n",
    "    month = entry[\"month\"]\n",
    "    fpr = entry[\"fpr\"]\n",
    "    tpr = entry[\"tpr\"]\n",
    "    auc_score = entry[\"auc\"]\n",
    "    ax1.plot(fpr, tpr, label=f\"{month} (AUC = {auc_score:.2f})\")\n",
    "\n",
    "ax1.plot([0, 1], [0, 1], linestyle=\"--\", color=\"gray\", label=\"Random Classifier\")\n",
    "ax1.set_xlabel(\"False Positive Rate\")\n",
    "ax1.set_ylabel(\"True Positive Rate\")\n",
    "ax1.set_title(\"ROC Curves by Month\")\n",
    "ax1.legend(loc=\"lower right\")\n",
    "ax1.grid(True)\n",
    "\n",
    "months = [entry[\"month\"] for entry in roc_data]\n",
    "auc_scores = [entry[\"auc\"] for entry in roc_data]\n",
    "months_str = [str(month) for month in months]\n",
    "\n",
    "ax2.plot(months_str, auc_scores, marker=\"o\", linestyle=\"-\", color=\"blue\")\n",
    "ax2.set_title(\"AUC Score Trend Over Time\")\n",
    "ax2.set_xlabel(\"Month\")\n",
    "ax2.set_ylabel(\"AUC Score\")\n",
    "ax2.set_ylim(0.0, 1.0)\n",
    "ax2.grid(True)\n",
    "ax2.tick_params(axis=\"x\", rotation=45)\n",
    "\n",
    "plt.tight_layout()\n",
    "plt.show()\n"
   ]
  },
  {
   "cell_type": "markdown",
   "id": "19",
   "metadata": {},
   "source": [
    "### Reliability diagram and calibration errors"
   ]
  },
  {
   "cell_type": "code",
   "execution_count": null,
   "id": "20",
   "metadata": {},
   "outputs": [],
   "source": [
    "roc_data_sorted = sorted(roc_data, key=lambda x: x[\"month\"])\n",
    "\n",
    "second_last_data = roc_data_sorted[-2]\n",
    "print(f\"Showing reliability diagram for month: {second_last_data['month']}\")\n",
    "\n",
    "fig, ax = rp.rel_diagram(second_last_data[\"y_pred\"], second_last_data[\"y_true\"])\n",
    "fig.set_size_inches(7, 6)\n",
    "fig.suptitle(f\"Reliability Diagram - {second_last_data['month']}\", fontsize=12)\n",
    "ax.set_xlabel(\"Mean Predicted Probability\", fontsize=11)\n",
    "ax.set_ylabel(\"Fraction of Positives\", fontsize=11)\n",
    "ax.tick_params(axis=\"both\", labelsize=9)\n",
    "ax.legend(fontsize=9, loc=\"lower right\")\n",
    "\n",
    "for txt in ax.texts:\n",
    "    txt.set_fontsize(12)\n",
    "\n",
    "plt.tight_layout()\n",
    "plt.show()\n"
   ]
  },
  {
   "cell_type": "code",
   "execution_count": null,
   "id": "21",
   "metadata": {},
   "outputs": [],
   "source": [
    "months = []\n",
    "calib_errors = []\n",
    "\n",
    "for entry in roc_data_sorted:\n",
    "    month = entry[\"month\"]\n",
    "    error = rp.smECE(entry[\"y_pred\"], entry[\"y_true\"])\n",
    "    months.append(str(month))\n",
    "    calib_errors.append(error)\n",
    "\n",
    "plt.figure(figsize=(10, 5))\n",
    "plt.plot(months, calib_errors, marker=\"o\", linestyle=\"-\", color=\"darkorange\")\n",
    "\n",
    "plt.title(\"Calibration Error (smECE) Over Time\", fontsize=12)\n",
    "plt.xlabel(\"Month\", fontsize=10)\n",
    "plt.ylabel(\"Calibration Error (smECE)\", fontsize=10)\n",
    "plt.tick_params(axis=\"both\", labelsize=9)\n",
    "\n",
    "plt.ylim(0, max(calib_errors) * 1.1)\n",
    "plt.grid(True)\n",
    "plt.xticks(rotation=45)\n",
    "plt.tight_layout()\n",
    "plt.show()\n"
   ]
  }
 ],
 "metadata": {
  "kernelspec": {
   "display_name": "noshow",
   "language": "python",
   "name": "python3"
  },
  "language_info": {
   "codemirror_mode": {
    "name": "ipython",
    "version": 3
   },
   "file_extension": ".py",
   "mimetype": "text/x-python",
   "name": "python",
   "nbconvert_exporter": "python",
   "pygments_lexer": "ipython3",
   "version": "3.13.1"
  }
 },
 "nbformat": 4,
 "nbformat_minor": 5
}
