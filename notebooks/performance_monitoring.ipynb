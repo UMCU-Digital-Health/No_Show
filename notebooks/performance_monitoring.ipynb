{
 "cells": [
  {
   "cell_type": "markdown",
   "id": "0",
   "metadata": {},
   "source": [
    "# Performance monitoring\n",
    "This notebook can be used to monitor the performance of the No-Show model over time. Performance is calculated over the patient group who were not called, but did have a prediction. "
   ]
  },
  {
   "cell_type": "markdown",
   "id": "1",
   "metadata": {},
   "source": [
    "### Install dependencies"
   ]
  },
  {
   "cell_type": "code",
   "execution_count": null,
   "id": "2",
   "metadata": {},
   "outputs": [],
   "source": [
    "import pickle\n",
    "\n",
    "import matplotlib.pyplot as plt\n",
    "import pandas as pd\n",
    "import relplot as rp\n",
    "import seaborn as sns\n",
    "from sklearn.metrics import (\n",
    "    roc_auc_score,\n",
    "    roc_curve,\n",
    ")\n",
    "from sklearn.model_selection import train_test_split\n",
    "from sqlalchemy import select\n",
    "\n",
    "from noshow.config import CLINIC_CONFIG\n",
    "from noshow.database.connection import get_engine\n",
    "from noshow.database.models import ApiCallResponse, ApiPrediction\n",
    "from noshow.features.feature_pipeline import create_features\n",
    "from noshow.preprocessing.load_data import (\n",
    "    load_appointment_csv,\n",
    "    process_appointments,\n",
    "    process_postal_codes,\n",
    ")"
   ]
  },
  {
   "cell_type": "markdown",
   "id": "3",
   "metadata": {},
   "source": [
    "### *Reminder: change the .env file to select the production database*"
   ]
  },
  {
   "cell_type": "markdown",
   "id": "4",
   "metadata": {},
   "source": [
    "## Data exploration"
   ]
  },
  {
   "cell_type": "markdown",
   "id": "5",
   "metadata": {},
   "source": [
    "### Extract patients who are not called\n",
    "Extract from ApiPrediction and ApiCallResponse. Select patients who had an prediction for a appointment, but were not called."
   ]
  },
  {
   "cell_type": "code",
   "execution_count": null,
   "id": "6",
   "metadata": {},
   "outputs": [],
   "source": [
    "query = (\n",
    "    select(\n",
    "        ApiPrediction.start_time,\n",
    "        ApiPrediction.prediction,\n",
    "        ApiPrediction.id,\n",
    "        ApiPrediction.patient_id,\n",
    "        ApiPrediction.appointment_id,\n",
    "        ApiCallResponse.call_status,\n",
    "    )\n",
    "    .outerjoin(ApiPrediction.callresponse_relation)\n",
    "    .outerjoin(ApiPrediction.patient_relation)\n",
    ")\n",
    "\n",
    "predictions = pd.read_sql(query, get_engine())\n",
    "\n",
    "predictions.head()"
   ]
  },
  {
   "cell_type": "markdown",
   "id": "7",
   "metadata": {},
   "source": [
    "### Percentage and count of not-called patients"
   ]
  },
  {
   "cell_type": "code",
   "execution_count": null,
   "id": "8",
   "metadata": {},
   "outputs": [],
   "source": [
    "predictions[\"month\"] = predictions[\"start_time\"].dt.to_period(\"M\")\n",
    "current_month = pd.Timestamp(\"today\").to_period(\"M\")\n",
    "predictions_filtered = predictions[predictions[\"month\"] < current_month]\n",
    "\n",
    "monthly_total = predictions_filtered[\"month\"].value_counts().sort_index()\n",
    "\n",
    "monthly_not_called = (\n",
    "    predictions_filtered.loc[\n",
    "        predictions_filtered[\"call_status\"].isna()\n",
    "        | (predictions_filtered[\"call_status\"] == \"Niet gebeld\"),\n",
    "        \"month\",\n",
    "    ]\n",
    "    .value_counts()\n",
    "    .sort_index()\n",
    ")\n",
    "monthly_percent = (\n",
    "    (monthly_not_called / monthly_total * 100)\n",
    "    .rename(\"percent_none_or_niet_gebeld\")\n",
    "    .reset_index()\n",
    ")\n",
    "\n",
    "months = monthly_percent[\"month\"].astype(str)\n",
    "\n",
    "fig, (ax1, ax2) = plt.subplots(2, 1, figsize=(10, 8), sharex=True)\n",
    "\n",
    "ax1.bar(\n",
    "    months,\n",
    "    monthly_percent[\"percent_none_or_niet_gebeld\"],\n",
    "    color=\"salmon\",\n",
    ")\n",
    "ax1.set_title(\"Percentage of not-called patients\", fontsize=12)\n",
    "ax1.set_ylabel(\"Percentage\", fontsize=10)\n",
    "ax1.set_ylim(0, 100)\n",
    "ax1.grid(axis=\"y\", linestyle=\"--\", alpha=0.7)\n",
    "ax1.tick_params(axis=\"both\", labelsize=8)\n",
    "\n",
    "ax2.plot(months, monthly_not_called.values, color=\"gray\", marker=\"o\")\n",
    "ax2.set_title(\"Count of not-called patients\", fontsize=12)\n",
    "ax2.set_ylabel(\"Count\", fontsize=10)\n",
    "ax2.set_xlabel(\"Month\", fontsize=10)\n",
    "ax2.grid(axis=\"y\", linestyle=\"--\", alpha=0.7)\n",
    "ax2.tick_params(axis=\"x\", rotation=45, labelsize=8)\n",
    "ax2.tick_params(axis=\"y\", labelsize=8)\n",
    "plt.xticks(rotation=45)\n",
    "\n",
    "plt.tight_layout()\n",
    "plt.show()\n"
   ]
  },
  {
   "cell_type": "markdown",
   "id": "9",
   "metadata": {},
   "source": [
    "### Prediction distribution"
   ]
  },
  {
   "cell_type": "code",
   "execution_count": null,
   "id": "10",
   "metadata": {},
   "outputs": [],
   "source": [
    "df_not_called = predictions_filtered[\n",
    "    predictions_filtered[\"call_status\"].isnull()\n",
    "    | (predictions_filtered[\"call_status\"] == \"Niet gebeld\")\n",
    "].copy()\n",
    "\n",
    "predictions = df_not_called.groupby(\"month\")[\"prediction\"].apply(list)\n",
    "sorted_months = sorted(predictions.index)\n",
    "recent_months = sorted_months[-12:]\n",
    "predictions = predictions.loc[recent_months]\n",
    "most_recent_month = recent_months[-1]\n",
    "\n",
    "plt.figure(figsize=(10, 5))\n",
    "palette = sns.color_palette(\"tab10\", n_colors=len(predictions) - 1)\n",
    "palette_iter = iter(palette)\n",
    "\n",
    "for month, preds in predictions.items():\n",
    "    if month == most_recent_month:\n",
    "        sns.kdeplot(\n",
    "            preds,\n",
    "            fill=True,\n",
    "            alpha=0.2,\n",
    "            bw_adjust=0.3,\n",
    "            color=\"black\",\n",
    "            label=str(month),\n",
    "            linewidth=2.5,\n",
    "        )\n",
    "    else:\n",
    "        sns.kdeplot(\n",
    "            preds,\n",
    "            fill=True,\n",
    "            alpha=0.05,\n",
    "            bw_adjust=0.3,\n",
    "            color=next(palette_iter),\n",
    "            label=str(month),\n",
    "            linewidth=1.5,\n",
    "        )\n",
    "\n",
    "plt.title(\"Prediction Distributions by Month (Last 12 Months)\", fontsize=12)\n",
    "plt.xlabel(\"Prediction Value\", fontsize=10)\n",
    "plt.ylabel(\"Density\", fontsize=10)\n",
    "legend = plt.legend(title=\"Month\", fontsize=8)\n",
    "legend.set_title(\"Month\", prop={\"size\": 9})\n",
    "plt.grid(axis=\"y\", linestyle=\"--\", alpha=0.6)\n",
    "plt.tick_params(axis=\"x\", labelsize=8)\n",
    "plt.tick_params(axis=\"y\", labelsize=8)\n",
    "plt.tight_layout()\n",
    "plt.show()\n"
   ]
  },
  {
   "cell_type": "markdown",
   "id": "11",
   "metadata": {},
   "source": [
    "## Results performance monitoring"
   ]
  },
  {
   "cell_type": "markdown",
   "id": "12",
   "metadata": {},
   "source": [
    "### Load SQL data"
   ]
  },
  {
   "cell_type": "code",
   "execution_count": null,
   "id": "13",
   "metadata": {},
   "outputs": [],
   "source": [
    "##  Make new export and save to poliafspraken_no_show.csv\n",
    "# from noshow.database.export import export_data\n",
    "# export_data()"
   ]
  },
  {
   "cell_type": "code",
   "execution_count": null,
   "id": "14",
   "metadata": {},
   "outputs": [],
   "source": [
    "appointments_df = load_appointment_csv(\"../data/raw/poliafspraken_no_show.csv\")\n",
    "appointments_df = process_appointments(appointments_df, CLINIC_CONFIG)\n",
    "appointments_df.head()"
   ]
  },
  {
   "cell_type": "markdown",
   "id": "15",
   "metadata": {},
   "source": [
    "### ROC and AUC scores"
   ]
  },
  {
   "cell_type": "code",
   "execution_count": null,
   "id": "16",
   "metadata": {},
   "outputs": [],
   "source": [
    "all_postalcodes = process_postal_codes(\"../data/raw/NL.txt\")\n",
    "featuretable = create_features(\n",
    "    appointments_df,\n",
    "    all_postalcodes,\n",
    ")\n",
    "print(f\"Number of total patients in featuretable: {len(featuretable)}\")"
   ]
  },
  {
   "cell_type": "code",
   "execution_count": null,
   "id": "17",
   "metadata": {},
   "outputs": [],
   "source": [
    "df_not_called[\"appointment_id\"] = df_not_called[\"appointment_id\"].astype(int)\n",
    "featuretable_filtered = featuretable[\n",
    "    featuretable[\"APP_ID\"].isin(df_not_called[\"appointment_id\"])\n",
    "]\n",
    "print(f\"Number of patients in featuretable who are not called: {len(featuretable)}\")\n"
   ]
  },
  {
   "cell_type": "code",
   "execution_count": null,
   "id": "18",
   "metadata": {},
   "outputs": [],
   "source": [
    "featuretable_filtered = (\n",
    "    featuretable_filtered[\n",
    "        [\n",
    "            \"hoofdagenda\",\n",
    "            \"hour\",\n",
    "            \"weekday\",\n",
    "            \"minutesDuration\",\n",
    "            \"no_show\",\n",
    "            \"prev_no_show\",\n",
    "            \"prev_no_show_perc\",\n",
    "            \"age\",\n",
    "            \"dist_umcu\",\n",
    "            \"prev_minutes_early\",\n",
    "            \"earlier_appointments\",\n",
    "            \"appointments_same_day\",\n",
    "            \"appointments_last_days\",\n",
    "            \"days_since_created\",\n",
    "            \"days_since_last_appointment\",\n",
    "        ]\n",
    "    ]\n",
    "    .reset_index()\n",
    "    .set_index([\"pseudo_id\", \"start\", \"hoofdagenda\"])\n",
    ")"
   ]
  },
  {
   "cell_type": "code",
   "execution_count": null,
   "id": "19",
   "metadata": {},
   "outputs": [],
   "source": [
    "featuretable_filtered[\"no_show\"] = (\n",
    "    featuretable_filtered[\"no_show\"].replace({\"no_show\": \"1\", \"show\": \"0\"}).astype(int)\n",
    ")\n",
    "featuretable_filtered[\"hour\"] = featuretable_filtered[\"hour\"].astype(\"category\")\n",
    "featuretable_filtered[\"weekday\"] = featuretable_filtered[\"weekday\"].astype(\"category\")\n",
    "\n",
    "print(featuretable_filtered.dtypes)"
   ]
  },
  {
   "cell_type": "code",
   "execution_count": null,
   "id": "20",
   "metadata": {},
   "outputs": [],
   "source": [
    "fig, (ax1, ax2) = plt.subplots(1, 2, figsize=(14, 6), sharex=False)\n",
    "\n",
    "roc_data = []\n",
    "current_month = pd.Timestamp.now().to_period(\"M\")\n",
    "\n",
    "with open(\"../output/models/no_show_model_cv.pickle\", \"rb\") as f:\n",
    "    model = pickle.load(f)\n",
    "\n",
    "for month, month_data in featuretable_filtered.groupby(\n",
    "    pd.Grouper(level=\"start\", freq=\"ME\")\n",
    "):\n",
    "    print(f\"Processing data for {month.strftime('%Y-%m')}\")\n",
    "    print(f\"Shape: {month_data.shape}\")\n",
    "\n",
    "    if month.to_period(\"M\") <= pd.Period(\"2024-12\", freq=\"M\"):\n",
    "        continue\n",
    "\n",
    "    if month.to_period(\"M\") >= current_month:\n",
    "        print(f\"Skipping current month: {month.strftime('%Y-%m')}\")\n",
    "        continue\n",
    "\n",
    "    X, y = month_data.drop(columns=\"no_show\"), month_data[\"no_show\"]\n",
    "    X_train, X_test, y_train, y_test = train_test_split(\n",
    "        X, y, test_size=0.2, random_state=0\n",
    "    )\n",
    "\n",
    "    print(f\"Training set shape: {X_train.shape}\")\n",
    "    print(f\"Test set shape: {X_test.shape}\")\n",
    "\n",
    "    y_pred = model.predict_proba(X_test)\n",
    "\n",
    "    fpr, tpr, thresholds = roc_curve(y_test, y_pred[:, 1])\n",
    "    auc_score = roc_auc_score(y_test, y_pred[:, 1])\n",
    "\n",
    "    month_label = month.strftime(\"%Y-%m\")\n",
    "    roc_data.append(\n",
    "        {\n",
    "            \"month\": month_label,\n",
    "            \"fpr\": fpr,\n",
    "            \"tpr\": tpr,\n",
    "            \"auc\": auc_score,\n",
    "            \"y_pred\": y_pred[:, 1],\n",
    "            \"y_true\": y_test,\n",
    "            \"n_samples\": len(month_data),\n",
    "        }\n",
    "    )\n",
    "\n",
    "    print(f\"AUC for {month_label}: {auc_score:.3f}\")\n",
    "\n",
    "\n",
    "for entry in roc_data:\n",
    "    ax1.plot(\n",
    "        entry[\"fpr\"],\n",
    "        entry[\"tpr\"],\n",
    "        label=f\"{entry['month']} (AUC = {entry['auc']:.2f})\",\n",
    "        alpha=1,\n",
    "        linewidth=1.5,\n",
    "    )\n",
    "\n",
    "ax1.plot([0, 1], [0, 1], linestyle=\"--\", color=\"gray\", label=\"Random Classifier\")\n",
    "ax1.set_title(\"ROC Curves by Month\", fontsize=12)\n",
    "ax1.set_xlabel(\"False Positive Rate\", fontsize=10)\n",
    "ax1.set_ylabel(\"True Positive Rate\", fontsize=10)\n",
    "ax1.grid(True, linestyle=\"--\", alpha=0.7)\n",
    "ax1.legend(loc=\"lower right\", fontsize=8)\n",
    "ax1.tick_params(axis=\"both\", labelsize=8)\n",
    "\n",
    "months = [entry[\"month\"] for entry in roc_data]\n",
    "auc_scores = [entry[\"auc\"] for entry in roc_data]\n",
    "months_str = [str(month) for month in months]\n",
    "\n",
    "ax2.plot(months_str, auc_scores, marker=\"o\", linestyle=\"-\", color=\"blue\")\n",
    "ax2.set_title(\"AUC Score Trend Over Time\", fontsize=12)\n",
    "ax2.set_xlabel(\"Month\", fontsize=10)\n",
    "ax2.set_ylabel(\"AUC Score\", fontsize=10)\n",
    "ax2.set_ylim(0.0, 1.0)\n",
    "ax2.grid(True, axis=\"y\", linestyle=\"--\", alpha=0.7)\n",
    "ax2.tick_params(axis=\"x\", rotation=45, labelsize=8)\n",
    "ax2.tick_params(axis=\"y\", labelsize=8)\n",
    "\n",
    "fig.set_layout_engine(\"tight\")\n",
    "fig.show()\n",
    "\n",
    "print(f\"\\nProcessed {len(roc_data)} months\")\n",
    "print(f\"Mean AUC: {sum(entry['auc'] for entry in roc_data) / len(roc_data):.3f}\")\n",
    "print(f\"Min AUC: {min(entry['auc'] for entry in roc_data):.3f}\")\n",
    "print(f\"Max AUC: {max(entry['auc'] for entry in roc_data):.3f}\")"
   ]
  },
  {
   "cell_type": "markdown",
   "id": "21",
   "metadata": {},
   "source": [
    "### Reliability diagram and calibration errors"
   ]
  },
  {
   "cell_type": "code",
   "execution_count": null,
   "id": "22",
   "metadata": {},
   "outputs": [],
   "source": [
    "# Create reliability diagram for the last month\n",
    "roc_data_sorted = sorted(roc_data, key=lambda x: x[\"month\"])\n",
    "last_month_entry = roc_data_sorted[-1]\n",
    "print(f\"Showing reliability diagram for month: {last_month_entry['month']}\")\n",
    "\n",
    "fig, ax = rp.rel_diagram(last_month_entry[\"y_pred\"], last_month_entry[\"y_true\"])\n",
    "fig.set_size_inches(7, 6)\n",
    "fig.suptitle(f\"Reliability Diagram - {last_month_entry['month']}\", fontsize=12)\n",
    "ax.set_xlabel(\"Mean Predicted Probability\", fontsize=11)\n",
    "ax.set_ylabel(\"Fraction of Positives\", fontsize=11)\n",
    "ax.tick_params(axis=\"both\", labelsize=9)\n",
    "ax.legend(fontsize=9, loc=\"lower right\")\n",
    "for txt in ax.texts:\n",
    "    txt.set_fontsize(12)\n",
    "plt.tight_layout()\n",
    "plt.show()"
   ]
  },
  {
   "cell_type": "code",
   "execution_count": null,
   "id": "23",
   "metadata": {},
   "outputs": [],
   "source": [
    "months = []\n",
    "calib_errors = []\n",
    "\n",
    "for entry in roc_data_sorted:\n",
    "    month = entry[\"month\"]\n",
    "    error = rp.smECE(entry[\"y_pred\"], entry[\"y_true\"])\n",
    "    months.append(str(month))\n",
    "    calib_errors.append(error)\n",
    "\n",
    "plt.figure(figsize=(10, 5))\n",
    "plt.plot(months, calib_errors, marker=\"o\", linestyle=\"-\", color=\"darkorange\")\n",
    "\n",
    "plt.title(\"Calibration Error (smECE) Over Time\", fontsize=12)\n",
    "plt.xlabel(\"Month\", fontsize=10)\n",
    "plt.ylabel(\"Calibration Error (smECE)\", fontsize=10)\n",
    "plt.tick_params(axis=\"both\", labelsize=9)\n",
    "\n",
    "plt.ylim(0, max(calib_errors) * 1.1)\n",
    "plt.grid(True)\n",
    "plt.xticks(rotation=45)\n",
    "plt.tight_layout()\n",
    "plt.show()\n"
   ]
  }
 ],
 "metadata": {
  "kernelspec": {
   "display_name": "noshow",
   "language": "python",
   "name": "python3"
  },
  "language_info": {
   "codemirror_mode": {
    "name": "ipython",
    "version": 3
   },
   "file_extension": ".py",
   "mimetype": "text/x-python",
   "name": "python",
   "nbconvert_exporter": "python",
   "pygments_lexer": "ipython3",
   "version": "3.13.1"
  }
 },
 "nbformat": 4,
 "nbformat_minor": 5
}
